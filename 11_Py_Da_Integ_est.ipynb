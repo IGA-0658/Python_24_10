{
 "cells": [
  {
   "cell_type": "markdown",
   "id": "d0967056",
   "metadata": {},
   "source": [
    "# Integración Estadística con Python\n",
    "\n",
    "* Medidas de centralización\n",
    "* Medidas de dispersión\n",
    "* Medidas de posición\n",
    "* Medidas de forma\n",
    "* Medidas de correlación"
   ]
  },
  {
   "cell_type": "code",
   "execution_count": 32,
   "id": "5f48eafa",
   "metadata": {},
   "outputs": [],
   "source": [
    "import pandas as pd\n",
    "import numpy as np\n",
    "import matplotlib.pyplot as plt\n",
    "import seaborn as sns\n",
    "import scipy.stats as stats #algoritmos matemáticos"
   ]
  },
  {
   "cell_type": "code",
   "execution_count": 33,
   "id": "a2e79dee",
   "metadata": {},
   "outputs": [
    {
     "data": {
      "text/html": [
       "<div>\n",
       "<style scoped>\n",
       "    .dataframe tbody tr th:only-of-type {\n",
       "        vertical-align: middle;\n",
       "    }\n",
       "\n",
       "    .dataframe tbody tr th {\n",
       "        vertical-align: top;\n",
       "    }\n",
       "\n",
       "    .dataframe thead th {\n",
       "        text-align: right;\n",
       "    }\n",
       "</style>\n",
       "<table border=\"1\" class=\"dataframe\">\n",
       "  <thead>\n",
       "    <tr style=\"text-align: right;\">\n",
       "      <th></th>\n",
       "      <th>Producto</th>\n",
       "      <th>Precio</th>\n",
       "      <th>Cantidad</th>\n",
       "      <th>Region</th>\n",
       "      <th>id_vendedor</th>\n",
       "    </tr>\n",
       "    <tr>\n",
       "      <th>Fecha</th>\n",
       "      <th></th>\n",
       "      <th></th>\n",
       "      <th></th>\n",
       "      <th></th>\n",
       "      <th></th>\n",
       "    </tr>\n",
       "  </thead>\n",
       "  <tbody>\n",
       "    <tr>\n",
       "      <th>2024-10-07</th>\n",
       "      <td>Medicamentos y recetas</td>\n",
       "      <td>10.000000</td>\n",
       "      <td>13</td>\n",
       "      <td>Murcia</td>\n",
       "      <td>o31</td>\n",
       "    </tr>\n",
       "    <tr>\n",
       "      <th>2024-10-20</th>\n",
       "      <td>Cobertura de enfermedades y cirugías</td>\n",
       "      <td>10.000000</td>\n",
       "      <td>9</td>\n",
       "      <td>Madrid</td>\n",
       "      <td>a99</td>\n",
       "    </tr>\n",
       "    <tr>\n",
       "      <th>2024-10-29</th>\n",
       "      <td>Cobertura de enfermedades y cirugías</td>\n",
       "      <td>29.025157</td>\n",
       "      <td>15</td>\n",
       "      <td>Cataluña</td>\n",
       "      <td>o31</td>\n",
       "    </tr>\n",
       "    <tr>\n",
       "      <th>2024-10-15</th>\n",
       "      <td>Cobertura médica básica</td>\n",
       "      <td>142.930869</td>\n",
       "      <td>13</td>\n",
       "      <td>Cataluña</td>\n",
       "      <td>o31</td>\n",
       "    </tr>\n",
       "    <tr>\n",
       "      <th>2024-10-11</th>\n",
       "      <td>Medicamentos y recetas</td>\n",
       "      <td>10.000000</td>\n",
       "      <td>1</td>\n",
       "      <td>Andalucía</td>\n",
       "      <td>p12</td>\n",
       "    </tr>\n",
       "  </tbody>\n",
       "</table>\n",
       "</div>"
      ],
      "text/plain": [
       "                                        Producto      Precio  Cantidad  \\\n",
       "Fecha                                                                    \n",
       "2024-10-07                Medicamentos y recetas   10.000000        13   \n",
       "2024-10-20  Cobertura de enfermedades y cirugías   10.000000         9   \n",
       "2024-10-29  Cobertura de enfermedades y cirugías   29.025157        15   \n",
       "2024-10-15               Cobertura médica básica  142.930869        13   \n",
       "2024-10-11                Medicamentos y recetas   10.000000         1   \n",
       "\n",
       "               Region id_vendedor  \n",
       "Fecha                              \n",
       "2024-10-07     Murcia         o31  \n",
       "2024-10-20     Madrid         a99  \n",
       "2024-10-29   Cataluña         o31  \n",
       "2024-10-15   Cataluña         o31  \n",
       "2024-10-11  Andalucía         p12  "
      ]
     },
     "execution_count": 33,
     "metadata": {},
     "output_type": "execute_result"
    }
   ],
   "source": [
    "#Cargar nuevo dataset\n",
    "df = pd.read_csv('Data/datos_ventas_mes.csv', index_col=0)\n",
    "#Visualizar los primeros registros\n",
    "df.head()"
   ]
  },
  {
   "cell_type": "code",
   "execution_count": 34,
   "id": "bf2a5515",
   "metadata": {},
   "outputs": [
    {
     "name": "stdout",
     "output_type": "stream",
     "text": [
      "<class 'pandas.core.frame.DataFrame'>\n",
      "Index: 31 entries, 2024-10-07 to 2024-10-01\n",
      "Data columns (total 5 columns):\n",
      " #   Column       Non-Null Count  Dtype  \n",
      "---  ------       --------------  -----  \n",
      " 0   Producto     31 non-null     object \n",
      " 1   Precio       31 non-null     float64\n",
      " 2   Cantidad     31 non-null     int64  \n",
      " 3   Region       31 non-null     object \n",
      " 4   id_vendedor  31 non-null     object \n",
      "dtypes: float64(1), int64(1), object(3)\n",
      "memory usage: 1.5+ KB\n"
     ]
    }
   ],
   "source": [
    "df.info()"
   ]
  },
  {
   "cell_type": "markdown",
   "id": "4f3e3a61",
   "metadata": {},
   "source": [
    "---\n",
    "- ### Medidas de posición (Cuartiles)"
   ]
  },
  {
   "cell_type": "code",
   "execution_count": 35,
   "id": "176772c9",
   "metadata": {},
   "outputs": [
    {
     "data": {
      "text/plain": [
       "<Axes: ylabel='Precio'>"
      ]
     },
     "execution_count": 35,
     "metadata": {},
     "output_type": "execute_result"
    },
    {
     "data": {
      "image/png": "[encoded data removed]",
      "text/plain": [
       "<Figure size 1000x500 with 1 Axes>"
      ]
     },
     "metadata": {},
     "output_type": "display_data"
    }
   ],
   "source": [
    "plt.figure(figsize=(10, 5)) #Define el tamaño de la figura\n",
    "sns.boxplot(data=df [\"Precio\"])"
   ]
  },
  {
   "cell_type": "code",
   "execution_count": 30,
   "id": "1da73385",
   "metadata": {},
   "outputs": [],
   "source": [
    "#Cuantiles\n",
    "q1 = np.percentile(df[\"Precio\"], 25)\n",
    "q2 = np.percentile(df[\"Precio\"], 50)\n",
    "q3 = np.percentile(df[\"Precio\"], 75)\n",
    "bigote_inferiror = q1 - 1.5 * (q3 - q1)\n",
    "bigote_superior = q3 + 1.5 * (q3 - q1)"
   ]
  },
  {
   "cell_type": "code",
   "execution_count": 36,
   "id": "5aaefd34",
   "metadata": {},
   "outputs": [
    {
     "data": {
      "text/plain": [
       "315.91370924602995"
      ]
     },
     "execution_count": 36,
     "metadata": {},
     "output_type": "execute_result"
    }
   ],
   "source": [
    "bigote_superior"
   ]
  },
  {
   "cell_type": "markdown",
   "id": "e1000bfb",
   "metadata": {},
   "source": [
    "---\n",
    "- ### Medidas de centralización (media, mediana, moda)"
   ]
  },
  {
   "cell_type": "code",
   "execution_count": 4,
   "id": "0df28805",
   "metadata": {},
   "outputs": [
    {
     "data": {
      "text/plain": [
       "Region\n",
       "Cataluña     14\n",
       "Andalucía     7\n",
       "Madrid        6\n",
       "Murcia        4\n",
       "Name: count, dtype: int64"
      ]
     },
     "execution_count": 4,
     "metadata": {},
     "output_type": "execute_result"
    }
   ],
   "source": [
    "df[\"Region\"].value_counts()\n",
    "#Value_counts() nos permite ver la cantidad de veces que se repite cada valor en la columna \"Region\", mejor que la moda, ya que nos da una idea de la distribución de los datos.\n"
   ]
  },
  {
   "cell_type": "markdown",
   "id": "9dca4898",
   "metadata": {},
   "source": [
    "---\n",
    "- ### Medidas de dispersión (Varianza, Desv. Std, Rango)\n",
    "Muestra cuan dispersa están al rededor de las medidas de centralización. \n"
   ]
  },
  {
   "cell_type": "code",
   "execution_count": 5,
   "id": "0d5df5a3",
   "metadata": {},
   "outputs": [
    {
     "data": {
      "text/plain": [
       "5.019745955958886"
      ]
     },
     "execution_count": 5,
     "metadata": {},
     "output_type": "execute_result"
    }
   ],
   "source": [
    "df[\"Cantidad\"].std() #Desviación estándar de la columna \"Cantidad\""
   ]
  },
  {
   "cell_type": "code",
   "execution_count": 6,
   "id": "64fa2e06",
   "metadata": {},
   "outputs": [
    {
     "data": {
      "text/plain": [
       "Precio      74.058402\n",
       "Cantidad     5.019746\n",
       "dtype: float64"
      ]
     },
     "execution_count": 6,
     "metadata": {},
     "output_type": "execute_result"
    }
   ],
   "source": [
    "#No puede cancular la Dv STD de todo pero si de las numericas\n",
    "\n",
    "df_numeric = df.select_dtypes(include=[np.number]) #Selecciona solo las columnas numéricas\n",
    "df_numeric.std() #Calcula la desviación estándar de las columnas numéricas"
   ]
  },
  {
   "cell_type": "code",
   "execution_count": 8,
   "id": "04546d17",
   "metadata": {},
   "outputs": [
    {
     "data": {
      "text/html": [
       "<div>\n",
       "<style scoped>\n",
       "    .dataframe tbody tr th:only-of-type {\n",
       "        vertical-align: middle;\n",
       "    }\n",
       "\n",
       "    .dataframe tbody tr th {\n",
       "        vertical-align: top;\n",
       "    }\n",
       "\n",
       "    .dataframe thead th {\n",
       "        text-align: right;\n",
       "    }\n",
       "</style>\n",
       "<table border=\"1\" class=\"dataframe\">\n",
       "  <thead>\n",
       "    <tr style=\"text-align: right;\">\n",
       "      <th></th>\n",
       "      <th>count</th>\n",
       "      <th>mean</th>\n",
       "      <th>std</th>\n",
       "      <th>min</th>\n",
       "      <th>25%</th>\n",
       "      <th>50%</th>\n",
       "      <th>75%</th>\n",
       "      <th>max</th>\n",
       "    </tr>\n",
       "  </thead>\n",
       "  <tbody>\n",
       "    <tr>\n",
       "      <th>Precio</th>\n",
       "      <td>31.0</td>\n",
       "      <td>69.798095</td>\n",
       "      <td>74.058402</td>\n",
       "      <td>10.0</td>\n",
       "      <td>10.0</td>\n",
       "      <td>29.025157</td>\n",
       "      <td>132.365484</td>\n",
       "      <td>200.0</td>\n",
       "    </tr>\n",
       "    <tr>\n",
       "      <th>Cantidad</th>\n",
       "      <td>31.0</td>\n",
       "      <td>8.258065</td>\n",
       "      <td>5.019746</td>\n",
       "      <td>1.0</td>\n",
       "      <td>4.0</td>\n",
       "      <td>8.000000</td>\n",
       "      <td>12.000000</td>\n",
       "      <td>19.0</td>\n",
       "    </tr>\n",
       "  </tbody>\n",
       "</table>\n",
       "</div>"
      ],
      "text/plain": [
       "          count       mean        std   min   25%        50%         75%  \\\n",
       "Precio     31.0  69.798095  74.058402  10.0  10.0  29.025157  132.365484   \n",
       "Cantidad   31.0   8.258065   5.019746   1.0   4.0   8.000000   12.000000   \n",
       "\n",
       "            max  \n",
       "Precio    200.0  \n",
       "Cantidad   19.0  "
      ]
     },
     "execution_count": 8,
     "metadata": {},
     "output_type": "execute_result"
    }
   ],
   "source": [
    "df_numeric.describe().T #Muestra un resumen estadístico de las columnas numéricas"
   ]
  },
  {
   "cell_type": "code",
   "execution_count": 12,
   "id": "22ec0090",
   "metadata": {},
   "outputs": [
    {
     "data": {
      "text/plain": [
       "Precio      5484.646876\n",
       "Cantidad      25.197849\n",
       "dtype: float64"
      ]
     },
     "execution_count": 12,
     "metadata": {},
     "output_type": "execute_result"
    }
   ],
   "source": [
    "df_numeric.var() #Calcula la varianza de las columnas numéricas"
   ]
  },
  {
   "cell_type": "code",
   "execution_count": 10,
   "id": "718405cb",
   "metadata": {},
   "outputs": [
    {
     "data": {
      "text/html": [
       "<div>\n",
       "<style scoped>\n",
       "    .dataframe tbody tr th:only-of-type {\n",
       "        vertical-align: middle;\n",
       "    }\n",
       "\n",
       "    .dataframe tbody tr th {\n",
       "        vertical-align: top;\n",
       "    }\n",
       "\n",
       "    .dataframe thead th {\n",
       "        text-align: right;\n",
       "    }\n",
       "</style>\n",
       "<table border=\"1\" class=\"dataframe\">\n",
       "  <thead>\n",
       "    <tr style=\"text-align: right;\">\n",
       "      <th></th>\n",
       "      <th>count</th>\n",
       "      <th>unique</th>\n",
       "      <th>top</th>\n",
       "      <th>freq</th>\n",
       "    </tr>\n",
       "  </thead>\n",
       "  <tbody>\n",
       "    <tr>\n",
       "      <th>Producto</th>\n",
       "      <td>31</td>\n",
       "      <td>4</td>\n",
       "      <td>Consultas médicas con especialistas</td>\n",
       "      <td>10</td>\n",
       "    </tr>\n",
       "    <tr>\n",
       "      <th>Region</th>\n",
       "      <td>31</td>\n",
       "      <td>4</td>\n",
       "      <td>Cataluña</td>\n",
       "      <td>14</td>\n",
       "    </tr>\n",
       "    <tr>\n",
       "      <th>id_vendedor</th>\n",
       "      <td>31</td>\n",
       "      <td>5</td>\n",
       "      <td>a99</td>\n",
       "      <td>10</td>\n",
       "    </tr>\n",
       "  </tbody>\n",
       "</table>\n",
       "</div>"
      ],
      "text/plain": [
       "            count unique                                  top freq\n",
       "Producto       31      4  Consultas médicas con especialistas   10\n",
       "Region         31      4                             Cataluña   14\n",
       "id_vendedor    31      5                                  a99   10"
      ]
     },
     "execution_count": 10,
     "metadata": {},
     "output_type": "execute_result"
    }
   ],
   "source": [
    "df_cat = df.select_dtypes(include=\"O\") #Selecciona solo las columnas categóricas\n",
    "df_cat.describe().T #Muestra un resumen estadístico de las columnas categóricas"
   ]
  },
  {
   "cell_type": "markdown",
   "id": "98dbd10f",
   "metadata": {},
   "source": [
    "---\n",
    "- ### Medidas de forma [Custosis, Asimetría (negativa (izq) o positiva (der))]"
   ]
  },
  {
   "cell_type": "code",
   "execution_count": 16,
   "id": "c0741ab0",
   "metadata": {},
   "outputs": [
    {
     "data": {
      "image/png": "[encoded data removed]",
      "text/plain": [
       "<Figure size 640x480 with 1 Axes>"
      ]
     },
     "metadata": {},
     "output_type": "display_data"
    }
   ],
   "source": [
    "#Plot histograma de precios\n",
    "sns.histplot(data=df, \n",
    "             x=df[\"Precio\"], \n",
    "             bins=5,\n",
    "             kde=True)\n",
    "plt.title(\"Distribución de la columna Precio\")\n",
    "plt.xlabel(\"Precio\")\n",
    "plt.ylabel(\"Frecuencia\");"
   ]
  },
  {
   "cell_type": "code",
   "execution_count": null,
   "id": "d1af05d1",
   "metadata": {},
   "outputs": [
    {
     "data": {
      "text/plain": [
       "0.7834569821413733"
      ]
     },
     "execution_count": 17,
     "metadata": {},
     "output_type": "execute_result"
    }
   ],
   "source": [
    "asimetria_precio = stats.skew(df[\"Precio\"]) #Calcula la asimetría de la columna Precio\n",
    "asimetria_precio\n",
    "#Si el valor es positivo, la distribución está sesgada a la derecha (asimetría positiva). Datos a la izq y cola larga a la derecha.\n",
    "# #Si el valor es negativo, la distribución está sesgada a la izquierda (asimetría negativa). Datos a la derecha y cola larga a la izquierda."
   ]
  },
  {
   "cell_type": "code",
   "execution_count": 20,
   "id": "97edd855",
   "metadata": {},
   "outputs": [
    {
     "data": {
      "text/plain": [
       "-0.9875296788179759"
      ]
     },
     "execution_count": 20,
     "metadata": {},
     "output_type": "execute_result"
    }
   ],
   "source": [
    "#Curtosis, \n",
    "#cercana a cero indica que la distribución es similar a una normal, valores positivos indican colas más pesadas y valores negativos indican colas más ligeras.\n",
    "#La curtosis mide la \"altura\" de la distribución, mientras que la asimetría mide la \"simetría\" de la distribución.\n",
    "#La curtosis es una medida de la forma de la distribución, que indica la presencia de colas pesadas o ligeras en comparación con una distribución normal.\n",
    "\n",
    "curtosis_precio = stats.kurtosis(df[\"Precio\"]) #Calcula la curtosis de la columna Precio\n",
    "curtosis_precio"
   ]
  },
  {
   "cell_type": "code",
   "execution_count": 19,
   "id": "510dd79c",
   "metadata": {},
   "outputs": [
    {
     "data": {
      "text/plain": [
       "-0.9458478961394787"
      ]
     },
     "execution_count": 19,
     "metadata": {},
     "output_type": "execute_result"
    }
   ],
   "source": [
    "curtosis_precio = df[\"Precio\"].kurt() #Otra forma de calcular la curtosis\n",
    "curtosis_precio"
   ]
  },
  {
   "cell_type": "markdown",
   "id": "07d0a49f",
   "metadata": {},
   "source": [
    "---\n",
    "- ### Medidas de correlación (positiva, negativa y ausencia de correlación)"
   ]
  },
  {
   "cell_type": "code",
   "execution_count": 24,
   "id": "ad00905e",
   "metadata": {},
   "outputs": [
    {
     "data": {
      "text/html": [
       "<div>\n",
       "<style scoped>\n",
       "    .dataframe tbody tr th:only-of-type {\n",
       "        vertical-align: middle;\n",
       "    }\n",
       "\n",
       "    .dataframe tbody tr th {\n",
       "        vertical-align: top;\n",
       "    }\n",
       "\n",
       "    .dataframe thead th {\n",
       "        text-align: right;\n",
       "    }\n",
       "</style>\n",
       "<table border=\"1\" class=\"dataframe\">\n",
       "  <thead>\n",
       "    <tr style=\"text-align: right;\">\n",
       "      <th></th>\n",
       "      <th>Precio</th>\n",
       "      <th>Cantidad</th>\n",
       "    </tr>\n",
       "  </thead>\n",
       "  <tbody>\n",
       "    <tr>\n",
       "      <th>Precio</th>\n",
       "      <td>1.000000</td>\n",
       "      <td>-0.000738</td>\n",
       "    </tr>\n",
       "    <tr>\n",
       "      <th>Cantidad</th>\n",
       "      <td>-0.000738</td>\n",
       "      <td>1.000000</td>\n",
       "    </tr>\n",
       "  </tbody>\n",
       "</table>\n",
       "</div>"
      ],
      "text/plain": [
       "            Precio  Cantidad\n",
       "Precio    1.000000 -0.000738\n",
       "Cantidad -0.000738  1.000000"
      ]
     },
     "execution_count": 24,
     "metadata": {},
     "output_type": "execute_result"
    }
   ],
   "source": [
    "#Matriz, calcula la matriz de correlación de las columnas numéricas, cuanto más cerca de 1 o -1, más fuerte es la relación entre las variables.\n",
    "matriz_corr = df.corr(numeric_only=True,\n",
    "                      method='pearson') #Calcula la matriz de correlación de Pearson\n",
    "matriz_corr"
   ]
  },
  {
   "cell_type": "code",
   "execution_count": 27,
   "id": "49666a9c",
   "metadata": {},
   "outputs": [
    {
     "data": {
      "text/plain": [
       "<Axes: >"
      ]
     },
     "execution_count": 27,
     "metadata": {},
     "output_type": "execute_result"
    },
    {
     "data": {
      "image/png": "[encoded data removed]",
      "text/plain": [
       "<Figure size 1000x500 with 2 Axes>"
      ]
     },
     "metadata": {},
     "output_type": "display_data"
    }
   ],
   "source": [
    "plt.figure(figsize=(10, 5)) #Define el tamaño de la figura\n",
    "sns.heatmap(matriz_corr,\n",
    "            vmax=1,\n",
    "            vmin=-1,\n",
    "            annot=True, #Muestra los valores en el mapa de calor\n",
    "            cmap='coolwarm', #Define el mapa de colores\n",
    "            fmt='.3f')"
   ]
  }
 ],
 "metadata": {
  "kernelspec": {
   "display_name": "Python 3",
   "language": "python",
   "name": "python3"
  },
  "language_info": {
   "codemirror_mode": {
    "name": "ipython",
    "version": 3
   },
   "file_extension": ".py",
   "mimetype": "text/x-python",
   "name": "python",
   "nbconvert_exporter": "python",
   "pygments_lexer": "ipython3",
   "version": "3.12.1"
  }
 },
 "nbformat": 4,
 "nbformat_minor": 5
}
