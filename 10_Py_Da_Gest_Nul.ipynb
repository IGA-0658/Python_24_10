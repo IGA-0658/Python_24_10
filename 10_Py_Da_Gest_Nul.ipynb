{
 "cells": [
  {
   "cell_type": "markdown",
   "id": "82ef8691",
   "metadata": {},
   "source": [
    "# Gestión de Nulos\n",
    "\n",
    "* Continua de 07 y 09, se limpia y luego se gestiona nulos.\n",
    "\n",
    "\n",
    "* Tipo de nulos, importancia de su gestión, razones x las que apàrecen y principales estrategias para gestionarlos.\n",
    "* Tratamiento de valores nulos en columnas categóricas.\n",
    "* Tratamiento de valores nulos en columnas numéricas.\n"
   ]
  },
  {
   "cell_type": "markdown",
   "id": "e1bff7b4",
   "metadata": {},
   "source": [
    "### Tipos\n",
    "\n",
    "- NaN (el más común, valor faltante o no valido en fila o columna, del tipo flow)\n",
    "\n",
    "\n",
    "- None (objeto de python, non time, para representar ausencia de valor en objeto no numérico)\n",
    "\n",
    "\n",
    "- Valores de texto: \"n/a\", \"Nan\", \"nan\", \"null\" (strings)\n",
    "\n",
    "\n",
    "- Valores numéricos especiales: 9999999 o 000000 (o en falta de datos numericos o imcompletos)\n",
    "\n",
    "\n",
    "- Nat (en fecha date-time)\n",
    "\n"
   ]
  },
  {
   "cell_type": "markdown",
   "id": "5adab063",
   "metadata": {},
   "source": [
    "### Metodos de imputación o tecnicas de gestión\n",
    "\n",
    "- drop  dropna\n",
    "\n",
    "- fillna (rellena nulos con valores estadísticos)\n"
   ]
  },
  {
   "cell_type": "code",
   "execution_count": 1,
   "id": "858987d0",
   "metadata": {},
   "outputs": [],
   "source": [
    "import pandas as pd; pd.set_option('display.max_columns', None)\n",
    "import numpy as np\n",
    "import matplotlib.pyplot as plt\n",
    "import seaborn as sns\n"
   ]
  },
  {
   "cell_type": "code",
   "execution_count": 2,
   "id": "9efedab5",
   "metadata": {},
   "outputs": [
    {
     "name": "stderr",
     "output_type": "stream",
     "text": [
      "C:\\Users\\Nacho\\AppData\\Local\\Temp\\ipykernel_18268\\3281060151.py:1: UserWarning: Could not infer format, so each element will be parsed individually, falling back to `dateutil`. To ensure parsing is consistent and as-expected, please specify a format.\n",
      "  df = pd.read_csv('Data/online_sales_nulos.csv', parse_dates=['Invoice_Date', 'Date', 'Hour'])\n"
     ]
    },
    {
     "data": {
      "text/html": [
       "<div>\n",
       "<style scoped>\n",
       "    .dataframe tbody tr th:only-of-type {\n",
       "        vertical-align: middle;\n",
       "    }\n",
       "\n",
       "    .dataframe tbody tr th {\n",
       "        vertical-align: top;\n",
       "    }\n",
       "\n",
       "    .dataframe thead th {\n",
       "        text-align: right;\n",
       "    }\n",
       "</style>\n",
       "<table border=\"1\" class=\"dataframe\">\n",
       "  <thead>\n",
       "    <tr style=\"text-align: right;\">\n",
       "      <th></th>\n",
       "      <th>Invoice_No</th>\n",
       "      <th>Stock_Code</th>\n",
       "      <th>Description</th>\n",
       "      <th>Quantity</th>\n",
       "      <th>Invoice_Date</th>\n",
       "      <th>Unit_Price</th>\n",
       "      <th>Customer_Id</th>\n",
       "      <th>Country</th>\n",
       "      <th>Discount</th>\n",
       "      <th>Payment_Method</th>\n",
       "      <th>Shipping_Cost</th>\n",
       "      <th>Category</th>\n",
       "      <th>Sales_Channel</th>\n",
       "      <th>Return_Status</th>\n",
       "      <th>Shipment_Provider</th>\n",
       "      <th>Warehouse_Location</th>\n",
       "      <th>Order_Priority</th>\n",
       "      <th>Year</th>\n",
       "      <th>Month</th>\n",
       "      <th>Day_Week</th>\n",
       "      <th>Week</th>\n",
       "      <th>Quarter</th>\n",
       "      <th>Invoice_Date_str</th>\n",
       "      <th>Date</th>\n",
       "      <th>Hour</th>\n",
       "      <th>Shipping_Cost_Category</th>\n",
       "    </tr>\n",
       "  </thead>\n",
       "  <tbody>\n",
       "    <tr>\n",
       "      <th>0</th>\n",
       "      <td>221958</td>\n",
       "      <td>sku_1964</td>\n",
       "      <td>white mug</td>\n",
       "      <td>38.0</td>\n",
       "      <td>2020-01-01 00:00:00</td>\n",
       "      <td>1.71</td>\n",
       "      <td>37039.0</td>\n",
       "      <td>australia</td>\n",
       "      <td>0.47</td>\n",
       "      <td>bank transfer</td>\n",
       "      <td>10.79</td>\n",
       "      <td>apparel</td>\n",
       "      <td>in-store</td>\n",
       "      <td>not returned</td>\n",
       "      <td>ups</td>\n",
       "      <td>london</td>\n",
       "      <td>medium</td>\n",
       "      <td>2020</td>\n",
       "      <td>January</td>\n",
       "      <td>wednesday</td>\n",
       "      <td>1</td>\n",
       "      <td>1</td>\n",
       "      <td>2020-01-01 00:00:00</td>\n",
       "      <td>2020-01-01</td>\n",
       "      <td>2025-06-09 00:00:00</td>\n",
       "      <td>low</td>\n",
       "    </tr>\n",
       "    <tr>\n",
       "      <th>1</th>\n",
       "      <td>771155</td>\n",
       "      <td>sku_1241</td>\n",
       "      <td>white mug</td>\n",
       "      <td>18.0</td>\n",
       "      <td>2020-01-01 01:00:00</td>\n",
       "      <td>41.25</td>\n",
       "      <td>19144.0</td>\n",
       "      <td>spain</td>\n",
       "      <td>0.19</td>\n",
       "      <td>paypal</td>\n",
       "      <td>9.51</td>\n",
       "      <td>electronics</td>\n",
       "      <td>online</td>\n",
       "      <td>not returned</td>\n",
       "      <td>ups</td>\n",
       "      <td>rome</td>\n",
       "      <td>medium</td>\n",
       "      <td>2020</td>\n",
       "      <td>January</td>\n",
       "      <td>wednesday</td>\n",
       "      <td>1</td>\n",
       "      <td>1</td>\n",
       "      <td>2020-01-01 01:00:00</td>\n",
       "      <td>2020-01-01</td>\n",
       "      <td>2025-06-09 01:00:00</td>\n",
       "      <td>low</td>\n",
       "    </tr>\n",
       "    <tr>\n",
       "      <th>2</th>\n",
       "      <td>231932</td>\n",
       "      <td>sku_1501</td>\n",
       "      <td>headphones</td>\n",
       "      <td>49.0</td>\n",
       "      <td>2020-01-01 02:00:00</td>\n",
       "      <td>29.11</td>\n",
       "      <td>50472.0</td>\n",
       "      <td>germany</td>\n",
       "      <td>0.35</td>\n",
       "      <td>bank transfer</td>\n",
       "      <td>23.03</td>\n",
       "      <td>electronics</td>\n",
       "      <td>online</td>\n",
       "      <td>returned</td>\n",
       "      <td>ups</td>\n",
       "      <td>berlin</td>\n",
       "      <td>high</td>\n",
       "      <td>2020</td>\n",
       "      <td>January</td>\n",
       "      <td>wednesday</td>\n",
       "      <td>1</td>\n",
       "      <td>1</td>\n",
       "      <td>2020-01-01 02:00:00</td>\n",
       "      <td>2020-01-01</td>\n",
       "      <td>2025-06-09 02:00:00</td>\n",
       "      <td>high</td>\n",
       "    </tr>\n",
       "    <tr>\n",
       "      <th>3</th>\n",
       "      <td>465838</td>\n",
       "      <td>sku_1760</td>\n",
       "      <td>desk lamp</td>\n",
       "      <td>14.0</td>\n",
       "      <td>2020-01-01 03:00:00</td>\n",
       "      <td>76.68</td>\n",
       "      <td>96586.0</td>\n",
       "      <td>netherlands</td>\n",
       "      <td>0.14</td>\n",
       "      <td>paypal</td>\n",
       "      <td>11.08</td>\n",
       "      <td>accessories</td>\n",
       "      <td>online</td>\n",
       "      <td>not returned</td>\n",
       "      <td>royal mail</td>\n",
       "      <td>rome</td>\n",
       "      <td>low</td>\n",
       "      <td>2020</td>\n",
       "      <td>January</td>\n",
       "      <td>wednesday</td>\n",
       "      <td>1</td>\n",
       "      <td>1</td>\n",
       "      <td>2020-01-01 03:00:00</td>\n",
       "      <td>2020-01-01</td>\n",
       "      <td>2025-06-09 03:00:00</td>\n",
       "      <td>low</td>\n",
       "    </tr>\n",
       "    <tr>\n",
       "      <th>4</th>\n",
       "      <td>359178</td>\n",
       "      <td>sku_1386</td>\n",
       "      <td>usb cable</td>\n",
       "      <td>NaN</td>\n",
       "      <td>2020-01-01 04:00:00</td>\n",
       "      <td>NaN</td>\n",
       "      <td>NaN</td>\n",
       "      <td>united kingdom</td>\n",
       "      <td>NaN</td>\n",
       "      <td>bank transfer</td>\n",
       "      <td>NaN</td>\n",
       "      <td>electronics</td>\n",
       "      <td>in-store</td>\n",
       "      <td>not returned</td>\n",
       "      <td>fedex</td>\n",
       "      <td>NaN</td>\n",
       "      <td>medium</td>\n",
       "      <td>2020</td>\n",
       "      <td>January</td>\n",
       "      <td>wednesday</td>\n",
       "      <td>1</td>\n",
       "      <td>1</td>\n",
       "      <td>2020-01-01 04:00:00</td>\n",
       "      <td>2020-01-01</td>\n",
       "      <td>2025-06-09 04:00:00</td>\n",
       "      <td>NaN</td>\n",
       "    </tr>\n",
       "  </tbody>\n",
       "</table>\n",
       "</div>"
      ],
      "text/plain": [
       "   Invoice_No Stock_Code Description  Quantity        Invoice_Date  \\\n",
       "0      221958   sku_1964   white mug      38.0 2020-01-01 00:00:00   \n",
       "1      771155   sku_1241   white mug      18.0 2020-01-01 01:00:00   \n",
       "2      231932   sku_1501  headphones      49.0 2020-01-01 02:00:00   \n",
       "3      465838   sku_1760   desk lamp      14.0 2020-01-01 03:00:00   \n",
       "4      359178   sku_1386   usb cable       NaN 2020-01-01 04:00:00   \n",
       "\n",
       "   Unit_Price  Customer_Id         Country  Discount Payment_Method  \\\n",
       "0        1.71      37039.0       australia      0.47  bank transfer   \n",
       "1       41.25      19144.0           spain      0.19         paypal   \n",
       "2       29.11      50472.0         germany      0.35  bank transfer   \n",
       "3       76.68      96586.0     netherlands      0.14         paypal   \n",
       "4         NaN          NaN  united kingdom       NaN  bank transfer   \n",
       "\n",
       "   Shipping_Cost     Category Sales_Channel Return_Status Shipment_Provider  \\\n",
       "0          10.79      apparel      in-store  not returned               ups   \n",
       "1           9.51  electronics        online  not returned               ups   \n",
       "2          23.03  electronics        online      returned               ups   \n",
       "3          11.08  accessories        online  not returned        royal mail   \n",
       "4            NaN  electronics      in-store  not returned             fedex   \n",
       "\n",
       "  Warehouse_Location Order_Priority  Year    Month   Day_Week  Week  Quarter  \\\n",
       "0             london         medium  2020  January  wednesday     1        1   \n",
       "1               rome         medium  2020  January  wednesday     1        1   \n",
       "2             berlin           high  2020  January  wednesday     1        1   \n",
       "3               rome            low  2020  January  wednesday     1        1   \n",
       "4                NaN         medium  2020  January  wednesday     1        1   \n",
       "\n",
       "      Invoice_Date_str       Date                Hour Shipping_Cost_Category  \n",
       "0  2020-01-01 00:00:00 2020-01-01 2025-06-09 00:00:00                    low  \n",
       "1  2020-01-01 01:00:00 2020-01-01 2025-06-09 01:00:00                    low  \n",
       "2  2020-01-01 02:00:00 2020-01-01 2025-06-09 02:00:00                   high  \n",
       "3  2020-01-01 03:00:00 2020-01-01 2025-06-09 03:00:00                    low  \n",
       "4  2020-01-01 04:00:00 2020-01-01 2025-06-09 04:00:00                    NaN  "
      ]
     },
     "execution_count": 2,
     "metadata": {},
     "output_type": "execute_result"
    }
   ],
   "source": [
    "df = pd.read_csv('Data/online_sales_nulos.csv', parse_dates=['Invoice_Date', 'Date', 'Hour'])\n",
    "df.head()"
   ]
  },
  {
   "cell_type": "code",
   "execution_count": 3,
   "id": "d81c1779",
   "metadata": {},
   "outputs": [
    {
     "name": "stdout",
     "output_type": "stream",
     "text": [
      "<class 'pandas.core.frame.DataFrame'>\n",
      "RangeIndex: 36340 entries, 0 to 36339\n",
      "Data columns (total 26 columns):\n",
      " #   Column                  Non-Null Count  Dtype         \n",
      "---  ------                  --------------  -----         \n",
      " 0   Invoice_No              36340 non-null  int64         \n",
      " 1   Stock_Code              36340 non-null  object        \n",
      " 2   Description             36340 non-null  object        \n",
      " 3   Quantity                34576 non-null  float64       \n",
      " 4   Invoice_Date            36340 non-null  datetime64[ns]\n",
      " 5   Unit_Price              35289 non-null  float64       \n",
      " 6   Customer_Id             32730 non-null  float64       \n",
      " 7   Country                 36340 non-null  object        \n",
      " 8   Discount                35633 non-null  float64       \n",
      " 9   Payment_Method          36340 non-null  object        \n",
      " 10  Shipping_Cost           34576 non-null  float64       \n",
      " 11  Category                36340 non-null  object        \n",
      " 12  Sales_Channel           36340 non-null  object        \n",
      " 13  Return_Status           36340 non-null  object        \n",
      " 14  Shipment_Provider       36340 non-null  object        \n",
      " 15  Warehouse_Location      33820 non-null  object        \n",
      " 16  Order_Priority          36340 non-null  object        \n",
      " 17  Year                    36340 non-null  int64         \n",
      " 18  Month                   36340 non-null  object        \n",
      " 19  Day_Week                36340 non-null  object        \n",
      " 20  Week                    36340 non-null  int64         \n",
      " 21  Quarter                 36340 non-null  int64         \n",
      " 22  Invoice_Date_str        36340 non-null  object        \n",
      " 23  Date                    36340 non-null  datetime64[ns]\n",
      " 24  Hour                    36340 non-null  datetime64[ns]\n",
      " 25  Shipping_Cost_Category  34576 non-null  object        \n",
      "dtypes: datetime64[ns](3), float64(5), int64(4), object(14)\n",
      "memory usage: 7.2+ MB\n"
     ]
    }
   ],
   "source": [
    "df.info()"
   ]
  },
  {
   "cell_type": "code",
   "execution_count": 4,
   "id": "f36a9c48",
   "metadata": {},
   "outputs": [
    {
     "data": {
      "text/plain": [
       "36340"
      ]
     },
     "execution_count": 4,
     "metadata": {},
     "output_type": "execute_result"
    }
   ],
   "source": [
    "#df.shape\n",
    "df.shape[0]"
   ]
  },
  {
   "cell_type": "code",
   "execution_count": 5,
   "id": "279a09ed",
   "metadata": {},
   "outputs": [
    {
     "data": {
      "text/plain": [
       "Invoice_No                0.000000\n",
       "Stock_Code                0.000000\n",
       "Description               0.000000\n",
       "Quantity                  4.854155\n",
       "Invoice_Date              0.000000\n",
       "Unit_Price                2.892130\n",
       "Customer_Id               9.933957\n",
       "Country                   0.000000\n",
       "Discount                  1.945515\n",
       "Payment_Method            0.000000\n",
       "Shipping_Cost             4.854155\n",
       "Category                  0.000000\n",
       "Sales_Channel             0.000000\n",
       "Return_Status             0.000000\n",
       "Shipment_Provider         0.000000\n",
       "Warehouse_Location        6.934507\n",
       "Order_Priority            0.000000\n",
       "Year                      0.000000\n",
       "Month                     0.000000\n",
       "Day_Week                  0.000000\n",
       "Week                      0.000000\n",
       "Quarter                   0.000000\n",
       "Invoice_Date_str          0.000000\n",
       "Date                      0.000000\n",
       "Hour                      0.000000\n",
       "Shipping_Cost_Category    4.854155\n",
       "dtype: float64"
      ]
     },
     "execution_count": 5,
     "metadata": {},
     "output_type": "execute_result"
    }
   ],
   "source": [
    "#df.isnull().sum()\n",
    "nulos = (df.isnull().sum() / df.shape[0]) * 100 #muestra el porcentaje de nulos por columna\n",
    "nulos\n"
   ]
  },
  {
   "cell_type": "code",
   "execution_count": 7,
   "id": "143aa343",
   "metadata": {},
   "outputs": [],
   "source": [
    "df_nulos = pd.DataFrame(nulos, columns=['%_nulos'])"
   ]
  },
  {
   "cell_type": "code",
   "execution_count": 8,
   "id": "e8c52c8e",
   "metadata": {},
   "outputs": [
    {
     "data": {
      "text/html": [
       "<div>\n",
       "<style scoped>\n",
       "    .dataframe tbody tr th:only-of-type {\n",
       "        vertical-align: middle;\n",
       "    }\n",
       "\n",
       "    .dataframe tbody tr th {\n",
       "        vertical-align: top;\n",
       "    }\n",
       "\n",
       "    .dataframe thead th {\n",
       "        text-align: right;\n",
       "    }\n",
       "</style>\n",
       "<table border=\"1\" class=\"dataframe\">\n",
       "  <thead>\n",
       "    <tr style=\"text-align: right;\">\n",
       "      <th></th>\n",
       "      <th>%_nulos</th>\n",
       "    </tr>\n",
       "  </thead>\n",
       "  <tbody>\n",
       "    <tr>\n",
       "      <th>Invoice_No</th>\n",
       "      <td>0.000000</td>\n",
       "    </tr>\n",
       "    <tr>\n",
       "      <th>Stock_Code</th>\n",
       "      <td>0.000000</td>\n",
       "    </tr>\n",
       "    <tr>\n",
       "      <th>Description</th>\n",
       "      <td>0.000000</td>\n",
       "    </tr>\n",
       "    <tr>\n",
       "      <th>Quantity</th>\n",
       "      <td>4.854155</td>\n",
       "    </tr>\n",
       "    <tr>\n",
       "      <th>Invoice_Date</th>\n",
       "      <td>0.000000</td>\n",
       "    </tr>\n",
       "    <tr>\n",
       "      <th>Unit_Price</th>\n",
       "      <td>2.892130</td>\n",
       "    </tr>\n",
       "    <tr>\n",
       "      <th>Customer_Id</th>\n",
       "      <td>9.933957</td>\n",
       "    </tr>\n",
       "    <tr>\n",
       "      <th>Country</th>\n",
       "      <td>0.000000</td>\n",
       "    </tr>\n",
       "    <tr>\n",
       "      <th>Discount</th>\n",
       "      <td>1.945515</td>\n",
       "    </tr>\n",
       "    <tr>\n",
       "      <th>Payment_Method</th>\n",
       "      <td>0.000000</td>\n",
       "    </tr>\n",
       "    <tr>\n",
       "      <th>Shipping_Cost</th>\n",
       "      <td>4.854155</td>\n",
       "    </tr>\n",
       "    <tr>\n",
       "      <th>Category</th>\n",
       "      <td>0.000000</td>\n",
       "    </tr>\n",
       "    <tr>\n",
       "      <th>Sales_Channel</th>\n",
       "      <td>0.000000</td>\n",
       "    </tr>\n",
       "    <tr>\n",
       "      <th>Return_Status</th>\n",
       "      <td>0.000000</td>\n",
       "    </tr>\n",
       "    <tr>\n",
       "      <th>Shipment_Provider</th>\n",
       "      <td>0.000000</td>\n",
       "    </tr>\n",
       "    <tr>\n",
       "      <th>Warehouse_Location</th>\n",
       "      <td>6.934507</td>\n",
       "    </tr>\n",
       "    <tr>\n",
       "      <th>Order_Priority</th>\n",
       "      <td>0.000000</td>\n",
       "    </tr>\n",
       "    <tr>\n",
       "      <th>Year</th>\n",
       "      <td>0.000000</td>\n",
       "    </tr>\n",
       "    <tr>\n",
       "      <th>Month</th>\n",
       "      <td>0.000000</td>\n",
       "    </tr>\n",
       "    <tr>\n",
       "      <th>Day_Week</th>\n",
       "      <td>0.000000</td>\n",
       "    </tr>\n",
       "    <tr>\n",
       "      <th>Week</th>\n",
       "      <td>0.000000</td>\n",
       "    </tr>\n",
       "    <tr>\n",
       "      <th>Quarter</th>\n",
       "      <td>0.000000</td>\n",
       "    </tr>\n",
       "    <tr>\n",
       "      <th>Invoice_Date_str</th>\n",
       "      <td>0.000000</td>\n",
       "    </tr>\n",
       "    <tr>\n",
       "      <th>Date</th>\n",
       "      <td>0.000000</td>\n",
       "    </tr>\n",
       "    <tr>\n",
       "      <th>Hour</th>\n",
       "      <td>0.000000</td>\n",
       "    </tr>\n",
       "    <tr>\n",
       "      <th>Shipping_Cost_Category</th>\n",
       "      <td>4.854155</td>\n",
       "    </tr>\n",
       "  </tbody>\n",
       "</table>\n",
       "</div>"
      ],
      "text/plain": [
       "                         %_nulos\n",
       "Invoice_No              0.000000\n",
       "Stock_Code              0.000000\n",
       "Description             0.000000\n",
       "Quantity                4.854155\n",
       "Invoice_Date            0.000000\n",
       "Unit_Price              2.892130\n",
       "Customer_Id             9.933957\n",
       "Country                 0.000000\n",
       "Discount                1.945515\n",
       "Payment_Method          0.000000\n",
       "Shipping_Cost           4.854155\n",
       "Category                0.000000\n",
       "Sales_Channel           0.000000\n",
       "Return_Status           0.000000\n",
       "Shipment_Provider       0.000000\n",
       "Warehouse_Location      6.934507\n",
       "Order_Priority          0.000000\n",
       "Year                    0.000000\n",
       "Month                   0.000000\n",
       "Day_Week                0.000000\n",
       "Week                    0.000000\n",
       "Quarter                 0.000000\n",
       "Invoice_Date_str        0.000000\n",
       "Date                    0.000000\n",
       "Hour                    0.000000\n",
       "Shipping_Cost_Category  4.854155"
      ]
     },
     "execution_count": 8,
     "metadata": {},
     "output_type": "execute_result"
    }
   ],
   "source": [
    "df_nulos"
   ]
  },
  {
   "cell_type": "code",
   "execution_count": 9,
   "id": "1627763e",
   "metadata": {},
   "outputs": [
    {
     "data": {
      "text/html": [
       "<div>\n",
       "<style scoped>\n",
       "    .dataframe tbody tr th:only-of-type {\n",
       "        vertical-align: middle;\n",
       "    }\n",
       "\n",
       "    .dataframe tbody tr th {\n",
       "        vertical-align: top;\n",
       "    }\n",
       "\n",
       "    .dataframe thead th {\n",
       "        text-align: right;\n",
       "    }\n",
       "</style>\n",
       "<table border=\"1\" class=\"dataframe\">\n",
       "  <thead>\n",
       "    <tr style=\"text-align: right;\">\n",
       "      <th></th>\n",
       "      <th>%_nulos</th>\n",
       "    </tr>\n",
       "  </thead>\n",
       "  <tbody>\n",
       "    <tr>\n",
       "      <th>Quantity</th>\n",
       "      <td>4.854155</td>\n",
       "    </tr>\n",
       "    <tr>\n",
       "      <th>Unit_Price</th>\n",
       "      <td>2.892130</td>\n",
       "    </tr>\n",
       "    <tr>\n",
       "      <th>Customer_Id</th>\n",
       "      <td>9.933957</td>\n",
       "    </tr>\n",
       "    <tr>\n",
       "      <th>Discount</th>\n",
       "      <td>1.945515</td>\n",
       "    </tr>\n",
       "    <tr>\n",
       "      <th>Shipping_Cost</th>\n",
       "      <td>4.854155</td>\n",
       "    </tr>\n",
       "    <tr>\n",
       "      <th>Warehouse_Location</th>\n",
       "      <td>6.934507</td>\n",
       "    </tr>\n",
       "    <tr>\n",
       "      <th>Shipping_Cost_Category</th>\n",
       "      <td>4.854155</td>\n",
       "    </tr>\n",
       "  </tbody>\n",
       "</table>\n",
       "</div>"
      ],
      "text/plain": [
       "                         %_nulos\n",
       "Quantity                4.854155\n",
       "Unit_Price              2.892130\n",
       "Customer_Id             9.933957\n",
       "Discount                1.945515\n",
       "Shipping_Cost           4.854155\n",
       "Warehouse_Location      6.934507\n",
       "Shipping_Cost_Category  4.854155"
      ]
     },
     "execution_count": 9,
     "metadata": {},
     "output_type": "execute_result"
    }
   ],
   "source": [
    "#Buscamos nulos mayor a 0\n",
    "df_nulos[df_nulos['%_nulos'] > 0]\n"
   ]
  },
  {
   "cell_type": "markdown",
   "id": "54e10635",
   "metadata": {},
   "source": [
    "### Tratamiento de valores nulos en columnas categóricas.\n"
   ]
  },
  {
   "cell_type": "code",
   "execution_count": null,
   "id": "b6bdadac",
   "metadata": {},
   "outputs": [],
   "source": [
    "#Obtenemos las columnas con nulos, tanto numéricas como categóricas, luego las filtramos por tipo\n",
    "#Catégoricas\n",
    "col_nulos_cat = df[df.columns[df.isnull().any()]].select_dtypes(include=['object']).columns"
   ]
  },
  {
   "cell_type": "code",
   "execution_count": 12,
   "id": "1fd4b2fa",
   "metadata": {},
   "outputs": [
    {
     "name": "stdout",
     "output_type": "stream",
     "text": [
      "Index(['Warehouse_Location', 'Shipping_Cost_Category'], dtype='object')\n"
     ]
    }
   ],
   "source": [
    "print(col_nulos_cat)"
   ]
  },
  {
   "cell_type": "code",
   "execution_count": 17,
   "id": "9e774a3e",
   "metadata": {},
   "outputs": [
    {
     "name": "stdout",
     "output_type": "stream",
     "text": [
      "La distribución de las categorías para la columna: WAREHOUSE_LOCATION\n",
      "Warehouse_Location\n",
      "amsterdam    19.166208\n",
      "rome         18.626857\n",
      "berlin       18.497523\n",
      "london       18.447991\n",
      "paris        18.326912\n",
      "Name: count, dtype: float64\n",
      "--------------------------------------------------------\n",
      "La distribución de las categorías para la columna: SHIPPING_COST_CATEGORY\n",
      "Shipping_Cost_Category\n",
      "high      34.166208\n",
      "low       30.751238\n",
      "medium    30.228398\n",
      "Name: count, dtype: float64\n",
      "--------------------------------------------------------\n"
     ]
    }
   ],
   "source": [
    "#iteramos sobre las columnas categóricas con nulos\n",
    "for col in col_nulos_cat:\n",
    "    print(f'La distribución de las categorías para la columna: {col.upper()}')\n",
    "    print(df[col].value_counts() / df.shape[0] * 100)  # Porcentaje de cada categoría\n",
    "    print('--------------------------------------------------------')"
   ]
  },
  {
   "cell_type": "code",
   "execution_count": 18,
   "id": "9871d023",
   "metadata": {},
   "outputs": [],
   "source": [
    "#No hay categoría predominante por que crearemos una categoría nueva para los nulos\n",
    "#Creamos una nueva categoría para los nulos, sobre escribiendo los nulos\n",
    "df['Warehouse_Location'] = df['Warehouse_Location'].fillna('unknown')"
   ]
  },
  {
   "cell_type": "code",
   "execution_count": 19,
   "id": "753e15e8",
   "metadata": {},
   "outputs": [
    {
     "data": {
      "text/plain": [
       "Warehouse_Location\n",
       "amsterdam    6965\n",
       "rome         6769\n",
       "berlin       6722\n",
       "london       6704\n",
       "paris        6660\n",
       "unknown      2520\n",
       "Name: count, dtype: int64"
      ]
     },
     "execution_count": 19,
     "metadata": {},
     "output_type": "execute_result"
    }
   ],
   "source": [
    "df.Warehouse_Location.value_counts() "
   ]
  },
  {
   "cell_type": "code",
   "execution_count": null,
   "id": "a0e4e06f",
   "metadata": {},
   "outputs": [],
   "source": [
    "#Los nules de la columna 'Shipping_Cost_Category' los ponemos como envio free.\n",
    "df['Shipping_Cost_Category'] = df['Shipping_Cost_Category'].fillna('free')"
   ]
  },
  {
   "cell_type": "code",
   "execution_count": 24,
   "id": "863ddad1",
   "metadata": {},
   "outputs": [
    {
     "data": {
      "text/plain": [
       "Shipping_Cost_Category\n",
       "high      12416\n",
       "low       11175\n",
       "medium    10985\n",
       "free       1764\n",
       "Name: count, dtype: int64"
      ]
     },
     "execution_count": 24,
     "metadata": {},
     "output_type": "execute_result"
    }
   ],
   "source": [
    "df['Shipping_Cost_Category'].value_counts()"
   ]
  },
  {
   "cell_type": "code",
   "execution_count": null,
   "id": "3ea45ffb",
   "metadata": {},
   "outputs": [
    {
     "data": {
      "text/plain": [
       "Warehouse_Location        0\n",
       "Shipping_Cost_Category    0\n",
       "dtype: int64"
      ]
     },
     "execution_count": 25,
     "metadata": {},
     "output_type": "execute_result"
    }
   ],
   "source": [
    "#Verificamos que no hay nulos en las columnas categóricas\n",
    "df[col_nulos_cat].isnull().sum()\n"
   ]
  },
  {
   "cell_type": "markdown",
   "id": "f2410637",
   "metadata": {},
   "source": [
    "### Tratamiento de valores nulos en columnas numéricas."
   ]
  },
  {
   "cell_type": "code",
   "execution_count": null,
   "id": "ee0a8480",
   "metadata": {},
   "outputs": [],
   "source": [
    "#Obtenemos las columnas con nulos numéricos\n",
    "col_nulos_num = df[df.columns[df.isnull().any()]].select_dtypes(include= np.number).columns"
   ]
  },
  {
   "cell_type": "code",
   "execution_count": 29,
   "id": "35417023",
   "metadata": {},
   "outputs": [
    {
     "name": "stdout",
     "output_type": "stream",
     "text": [
      "Index(['Quantity', 'Unit_Price', 'Customer_Id', 'Discount', 'Shipping_Cost'], dtype='object')\n"
     ]
    }
   ],
   "source": [
    "print(col_nulos_num)"
   ]
  },
  {
   "cell_type": "code",
   "execution_count": null,
   "id": "db5473f1",
   "metadata": {},
   "outputs": [
    {
     "data": {
      "text/plain": [
       "Quantity         4.854155\n",
       "Unit_Price       2.892130\n",
       "Customer_Id      9.933957\n",
       "Discount         1.945515\n",
       "Shipping_Cost    4.854155\n",
       "dtype: float64"
      ]
     },
     "execution_count": 31,
     "metadata": {},
     "output_type": "execute_result"
    }
   ],
   "source": [
    "# Porcentaje de nulos por columna categórica\n",
    "df[col_nulos_num].isnull().sum() / df.shape[0] * 100  \n"
   ]
  },
  {
   "cell_type": "code",
   "execution_count": null,
   "id": "51c9b807",
   "metadata": {},
   "outputs": [],
   "source": [
    "df['Customer_Id'] = df['Customer_Id'].fillna('unknown')"
   ]
  },
  {
   "cell_type": "code",
   "execution_count": 33,
   "id": "b8d43bcb",
   "metadata": {},
   "outputs": [
    {
     "data": {
      "text/plain": [
       "Customer_Id\n",
       "unknown    3610\n",
       "15401.0       5\n",
       "81806.0       5\n",
       "17797.0       5\n",
       "14461.0       5\n",
       "           ... \n",
       "64474.0       1\n",
       "27023.0       1\n",
       "26194.0       1\n",
       "88665.0       1\n",
       "54018.0       1\n",
       "Name: count, Length: 26655, dtype: int64"
      ]
     },
     "execution_count": 33,
     "metadata": {},
     "output_type": "execute_result"
    }
   ],
   "source": [
    "df['Customer_Id'].value_counts()\n",
    "#Verificamos que no hay nulos en las columnas numéricas"
   ]
  },
  {
   "cell_type": "code",
   "execution_count": null,
   "id": "36fc2d8d",
   "metadata": {},
   "outputs": [],
   "source": [
    "#buscamos nulos en la columna cat shipping_Cost, reempleamos los nulos con 0\n",
    "df['Shipping_Cost'] = df['Shipping_Cost'].fillna(0)\n"
   ]
  },
  {
   "cell_type": "code",
   "execution_count": 36,
   "id": "7df9d08e",
   "metadata": {},
   "outputs": [
    {
     "data": {
      "text/plain": [
       "Shipping_Cost\n",
       "17.481926    1764\n",
       "5.340000       30\n",
       "13.690000      28\n",
       "22.620000      27\n",
       "24.760000      26\n",
       "             ... \n",
       "9.440000        4\n",
       "17.370000       3\n",
       "14.450000       3\n",
       "16.710000       3\n",
       "5.000000        1\n",
       "Name: count, Length: 2502, dtype: int64"
      ]
     },
     "execution_count": 36,
     "metadata": {},
     "output_type": "execute_result"
    }
   ],
   "source": [
    "df['Shipping_Cost'].value_counts()"
   ]
  },
  {
   "cell_type": "markdown",
   "id": "ca3cfc1e",
   "metadata": {},
   "source": [
    "### Creamos figura con los datos"
   ]
  },
  {
   "cell_type": "code",
   "execution_count": null,
   "id": "a84f816f",
   "metadata": {},
   "outputs": [
    {
     "data": {
      "image/png": "[encoded data removed]",
      "text/plain": [
       "<Figure size 1000x1000 with 3 Axes>"
      ]
     },
     "metadata": {},
     "output_type": "display_data"
    }
   ],
   "source": [
    "fig, axes = plt.subplots(nrows = 3, ncols = 1, figsize=(10, 10))\n",
    "\n",
    "sns.boxplot(x = 'Quantity', data = df, ax = axes[0], legend= False, color='lightblue')\n",
    "sns.boxplot(x = 'Unit_Price', data = df, ax = axes[1], legend= False, color='darkblue')\n",
    "sns.boxplot(x = 'Discount', data = df, ax = axes[2], legend= False, color='aqua')\n",
    "plt.show()\n",
    "\n",
    "#muestra que en las columnas por tratar no hay valores extremos"
   ]
  },
  {
   "cell_type": "code",
   "execution_count": 46,
   "id": "b2c53943",
   "metadata": {},
   "outputs": [
    {
     "data": {
      "text/html": [
       "<div>\n",
       "<style scoped>\n",
       "    .dataframe tbody tr th:only-of-type {\n",
       "        vertical-align: middle;\n",
       "    }\n",
       "\n",
       "    .dataframe tbody tr th {\n",
       "        vertical-align: top;\n",
       "    }\n",
       "\n",
       "    .dataframe thead th {\n",
       "        text-align: right;\n",
       "    }\n",
       "</style>\n",
       "<table border=\"1\" class=\"dataframe\">\n",
       "  <thead>\n",
       "    <tr style=\"text-align: right;\">\n",
       "      <th></th>\n",
       "      <th>mean</th>\n",
       "      <th>50%</th>\n",
       "      <th>std</th>\n",
       "    </tr>\n",
       "  </thead>\n",
       "  <tbody>\n",
       "    <tr>\n",
       "      <th>Quantity</th>\n",
       "      <td>24.861551</td>\n",
       "      <td>25.00</td>\n",
       "      <td>14.153233</td>\n",
       "    </tr>\n",
       "    <tr>\n",
       "      <th>Unit_Price</th>\n",
       "      <td>50.425862</td>\n",
       "      <td>50.12</td>\n",
       "      <td>28.538481</td>\n",
       "    </tr>\n",
       "    <tr>\n",
       "      <th>Discount</th>\n",
       "      <td>0.251233</td>\n",
       "      <td>0.25</td>\n",
       "      <td>0.144066</td>\n",
       "    </tr>\n",
       "  </tbody>\n",
       "</table>\n",
       "</div>"
      ],
      "text/plain": [
       "                 mean    50%        std\n",
       "Quantity    24.861551  25.00  14.153233\n",
       "Unit_Price  50.425862  50.12  28.538481\n",
       "Discount     0.251233   0.25   0.144066"
      ]
     },
     "execution_count": 46,
     "metadata": {},
     "output_type": "execute_result"
    }
   ],
   "source": [
    "df[['Quantity', 'Unit_Price', 'Discount']].describe().T[['mean', '50%', 'std']]"
   ]
  },
  {
   "cell_type": "code",
   "execution_count": null,
   "id": "47ec0e45",
   "metadata": {},
   "outputs": [],
   "source": [
    "#Reemplazamos los nulos de las columnas numéricas con la mediana, ya que no hay valores extremos\n",
    "df['Quantity'] = df['Quantity'].fillna(df['Quantity'].median())\n",
    "df['Discount'] = df['Discount'].fillna(df['Discount'].median())\n",
    "\n"
   ]
  },
  {
   "cell_type": "code",
   "execution_count": null,
   "id": "9260103c",
   "metadata": {},
   "outputs": [],
   "source": [
    "##Reemplazamos los nulos de las columnas numéricas con la mediana y/o media\n",
    "media_unit_price = df['Unit_Price'].mean()\n",
    "mediana_unit_price = df['Unit_Price'].median()"
   ]
  },
  {
   "cell_type": "code",
   "execution_count": 52,
   "id": "25c1ac1c",
   "metadata": {},
   "outputs": [
    {
     "data": {
      "text/html": [
       "<div>\n",
       "<style scoped>\n",
       "    .dataframe tbody tr th:only-of-type {\n",
       "        vertical-align: middle;\n",
       "    }\n",
       "\n",
       "    .dataframe tbody tr th {\n",
       "        vertical-align: top;\n",
       "    }\n",
       "\n",
       "    .dataframe thead th {\n",
       "        text-align: right;\n",
       "    }\n",
       "</style>\n",
       "<table border=\"1\" class=\"dataframe\">\n",
       "  <thead>\n",
       "    <tr style=\"text-align: right;\">\n",
       "      <th></th>\n",
       "      <th>index</th>\n",
       "      <th>Unit_Price</th>\n",
       "    </tr>\n",
       "  </thead>\n",
       "  <tbody>\n",
       "    <tr>\n",
       "      <th>0</th>\n",
       "      <td>0</td>\n",
       "      <td>1.71</td>\n",
       "    </tr>\n",
       "    <tr>\n",
       "      <th>1</th>\n",
       "      <td>1</td>\n",
       "      <td>41.25</td>\n",
       "    </tr>\n",
       "    <tr>\n",
       "      <th>2</th>\n",
       "      <td>2</td>\n",
       "      <td>29.11</td>\n",
       "    </tr>\n",
       "    <tr>\n",
       "      <th>3</th>\n",
       "      <td>3</td>\n",
       "      <td>76.68</td>\n",
       "    </tr>\n",
       "    <tr>\n",
       "      <th>4</th>\n",
       "      <td>4</td>\n",
       "      <td>NaN</td>\n",
       "    </tr>\n",
       "  </tbody>\n",
       "</table>\n",
       "</div>"
      ],
      "text/plain": [
       "   index  Unit_Price\n",
       "0      0        1.71\n",
       "1      1       41.25\n",
       "2      2       29.11\n",
       "3      3       76.68\n",
       "4      4         NaN"
      ]
     },
     "execution_count": 52,
     "metadata": {},
     "output_type": "execute_result"
    }
   ],
   "source": [
    "df_unit = df['Unit_Price'].reset_index()\n",
    "df_unit.head()"
   ]
  },
  {
   "cell_type": "code",
   "execution_count": null,
   "id": "d2e5e42d",
   "metadata": {},
   "outputs": [],
   "source": [
    "#Muesrtro DF con valores rellenados en unit_price y sin rellenar.\n",
    "df_unit['media_unit_price'] = df_unit['Unit_Price'].fillna(media_unit_price)\n",
    "df_unit['mediana_unit_price'] = df_unit['Unit_Price'].fillna(mediana_unit_price)"
   ]
  },
  {
   "cell_type": "code",
   "execution_count": 54,
   "id": "1e0902ae",
   "metadata": {},
   "outputs": [
    {
     "data": {
      "text/html": [
       "<div>\n",
       "<style scoped>\n",
       "    .dataframe tbody tr th:only-of-type {\n",
       "        vertical-align: middle;\n",
       "    }\n",
       "\n",
       "    .dataframe tbody tr th {\n",
       "        vertical-align: top;\n",
       "    }\n",
       "\n",
       "    .dataframe thead th {\n",
       "        text-align: right;\n",
       "    }\n",
       "</style>\n",
       "<table border=\"1\" class=\"dataframe\">\n",
       "  <thead>\n",
       "    <tr style=\"text-align: right;\">\n",
       "      <th></th>\n",
       "      <th>index</th>\n",
       "      <th>Unit_Price</th>\n",
       "      <th>media_unit_price</th>\n",
       "      <th>mediana_unit_price</th>\n",
       "    </tr>\n",
       "  </thead>\n",
       "  <tbody>\n",
       "    <tr>\n",
       "      <th>0</th>\n",
       "      <td>0</td>\n",
       "      <td>1.71</td>\n",
       "      <td>1.710000</td>\n",
       "      <td>1.71</td>\n",
       "    </tr>\n",
       "    <tr>\n",
       "      <th>1</th>\n",
       "      <td>1</td>\n",
       "      <td>41.25</td>\n",
       "      <td>41.250000</td>\n",
       "      <td>41.25</td>\n",
       "    </tr>\n",
       "    <tr>\n",
       "      <th>2</th>\n",
       "      <td>2</td>\n",
       "      <td>29.11</td>\n",
       "      <td>29.110000</td>\n",
       "      <td>29.11</td>\n",
       "    </tr>\n",
       "    <tr>\n",
       "      <th>3</th>\n",
       "      <td>3</td>\n",
       "      <td>76.68</td>\n",
       "      <td>76.680000</td>\n",
       "      <td>76.68</td>\n",
       "    </tr>\n",
       "    <tr>\n",
       "      <th>4</th>\n",
       "      <td>4</td>\n",
       "      <td>NaN</td>\n",
       "      <td>50.425862</td>\n",
       "      <td>50.12</td>\n",
       "    </tr>\n",
       "  </tbody>\n",
       "</table>\n",
       "</div>"
      ],
      "text/plain": [
       "   index  Unit_Price  media_unit_price  mediana_unit_price\n",
       "0      0        1.71          1.710000                1.71\n",
       "1      1       41.25         41.250000               41.25\n",
       "2      2       29.11         29.110000               29.11\n",
       "3      3       76.68         76.680000               76.68\n",
       "4      4         NaN         50.425862               50.12"
      ]
     },
     "execution_count": 54,
     "metadata": {},
     "output_type": "execute_result"
    }
   ],
   "source": [
    "df_unit.head()"
   ]
  },
  {
   "cell_type": "code",
   "execution_count": 55,
   "id": "dd45e514",
   "metadata": {},
   "outputs": [
    {
     "name": "stdout",
     "output_type": "stream",
     "text": [
      "28.122756683507312\n",
      "28.122803397462924\n"
     ]
    }
   ],
   "source": [
    "print(df_unit['media_unit_price'].describe()['std'])\n",
    "print(df_unit['mediana_unit_price'].describe()['std'])"
   ]
  },
  {
   "cell_type": "code",
   "execution_count": 56,
   "id": "8bfdbda6",
   "metadata": {},
   "outputs": [],
   "source": [
    "df['Unit_Price'] = df['Unit_Price'].fillna(media_unit_price)\n",
    "#Rellemos los nulos de la columna Unit_Price con la media, ya que es la que menos varianza tiene."
   ]
  },
  {
   "cell_type": "code",
   "execution_count": 57,
   "id": "fbeea190",
   "metadata": {},
   "outputs": [
    {
     "data": {
      "text/plain": [
       "Invoice_No                0\n",
       "Stock_Code                0\n",
       "Description               0\n",
       "Quantity                  0\n",
       "Invoice_Date              0\n",
       "Unit_Price                0\n",
       "Customer_Id               0\n",
       "Country                   0\n",
       "Discount                  0\n",
       "Payment_Method            0\n",
       "Shipping_Cost             0\n",
       "Category                  0\n",
       "Sales_Channel             0\n",
       "Return_Status             0\n",
       "Shipment_Provider         0\n",
       "Warehouse_Location        0\n",
       "Order_Priority            0\n",
       "Year                      0\n",
       "Month                     0\n",
       "Day_Week                  0\n",
       "Week                      0\n",
       "Quarter                   0\n",
       "Invoice_Date_str          0\n",
       "Date                      0\n",
       "Hour                      0\n",
       "Shipping_Cost_Category    0\n",
       "dtype: int64"
      ]
     },
     "execution_count": 57,
     "metadata": {},
     "output_type": "execute_result"
    }
   ],
   "source": [
    "df.isnull().sum()\n",
    "#Comprobamos que no hay nulos en el dataframe"
   ]
  },
  {
   "cell_type": "code",
   "execution_count": 58,
   "id": "c23c0639",
   "metadata": {},
   "outputs": [],
   "source": [
    "#guardamos el dataframe sin nulos\n",
    "df.to_csv('Data/online_sales_sin_nulos.csv', index=False)"
   ]
  }
 ],
 "metadata": {
  "kernelspec": {
   "display_name": "Python 3",
   "language": "python",
   "name": "python3"
  },
  "language_info": {
   "codemirror_mode": {
    "name": "ipython",
    "version": 3
   },
   "file_extension": ".py",
   "mimetype": "text/x-python",
   "name": "python",
   "nbconvert_exporter": "python",
   "pygments_lexer": "ipython3",
   "version": "3.12.1"
  }
 },
 "nbformat": 4,
 "nbformat_minor": 5
}
