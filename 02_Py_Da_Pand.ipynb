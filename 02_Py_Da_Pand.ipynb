{
 "cells": [
  {
   "cell_type": "markdown",
   "metadata": {
    "id": "cLtA29txbOpt"
   },
   "source": [
    "#Pandas\n",
    "Permite tener todas las ventajas de excel en python\n"
   ]
  },
  {
   "cell_type": "code",
   "execution_count": 1,
   "metadata": {
    "executionInfo": {
     "elapsed": 792,
     "status": "ok",
     "timestamp": 1744311123615,
     "user": {
      "displayName": "Ignacio Alianak",
      "userId": "06196950665750437451"
     },
     "user_tz": -120
    },
    "id": "A3r4Ap0zYYyy"
   },
   "outputs": [],
   "source": [
    "#pip install pandas (consola)\n",
    "#Tratamniento de datos (comento para que uso estas lib)\n",
    "import numpy as np\n",
    "import pandas as pd\n",
    "#-----------------------\n",
    "pd.set_option('display.max_columns',None) #limite para 4 columnas\n",
    "pd.set_option('display.max_rows',10) #limite para 10 filas\n"
   ]
  },
  {
   "cell_type": "code",
   "execution_count": 2,
   "metadata": {
    "colab": {
     "base_uri": "https://localhost:8080/"
    },
    "executionInfo": {
     "elapsed": 8,
     "status": "ok",
     "timestamp": 1744311123621,
     "user": {
      "displayName": "Ignacio Alianak",
      "userId": "06196950665750437451"
     },
     "user_tz": -120
    },
    "id": "yGKygulnci5F",
    "outputId": "e6eb01dc-4f04-48c0-8aab-110005e932b9"
   },
   "outputs": [
    {
     "name": "stdout",
     "output_type": "stream",
     "text": [
      "2.2.2\n"
     ]
    }
   ],
   "source": [
    "print(pd.__version__)"
   ]
  },
  {
   "cell_type": "markdown",
   "metadata": {
    "id": "Sq8Bqnz8h4mh"
   },
   "source": [
    "#>>Series\n",
    "Estructura unidimensional (Filas o columnas de datos)\n",
    "\n",
    "-- **Homogeneos**: 1 tipo de datos por serie.\n",
    "\n",
    "-- **Elementos ordenados**: cada elemento tiene asociado un índice.\n",
    "\n",
    "-- **Funcionalidades adicionales**: operaciones mates, filtrar datos, ordenar datos, etc.\n"
   ]
  },
  {
   "cell_type": "markdown",
   "metadata": {
    "id": "5GIRlGVrkTV8"
   },
   "source": [
    "##Creacion Serie\n",
    "\n",
    "\n",
    "*   Serie vacía\n",
    "\n",
    "\n"
   ]
  },
  {
   "cell_type": "code",
   "execution_count": 3,
   "metadata": {
    "colab": {
     "base_uri": "https://localhost:8080/",
     "height": 84
    },
    "executionInfo": {
     "elapsed": 45,
     "status": "ok",
     "timestamp": 1744311134296,
     "user": {
      "displayName": "Ignacio Alianak",
      "userId": "06196950665750437451"
     },
     "user_tz": -120
    },
    "id": "__nqhsmhhzHh",
    "outputId": "aa87377b-032c-46b1-b3e9-8dd380ab6451"
   },
   "outputs": [
    {
     "data": {
      "text/plain": [
       "Series([], dtype: object)"
      ]
     },
     "execution_count": 3,
     "metadata": {},
     "output_type": "execute_result"
    }
   ],
   "source": [
    "#llamar a la libreria vacia, llamo panda o escribo el alias.\n",
    "serie_vacia = pd.Series()\n",
    "serie_vacia"
   ]
  },
  {
   "cell_type": "markdown",
   "metadata": {
    "id": "705d310nm1ej"
   },
   "source": [
    "* Array unidimensional, otro tipo de serie"
   ]
  },
  {
   "cell_type": "code",
   "execution_count": 4,
   "metadata": {
    "colab": {
     "base_uri": "https://localhost:8080/",
     "height": 571
    },
    "collapsed": true,
    "executionInfo": {
     "elapsed": 22,
     "status": "ok",
     "timestamp": 1744311136557,
     "user": {
      "displayName": "Ignacio Alianak",
      "userId": "06196950665750437451"
     },
     "user_tz": -120
    },
    "id": "5jsxdnJGmyNZ",
    "outputId": "db982fd2-037e-4052-89c8-d8862b0da394"
   },
   "outputs": [
    {
     "name": "stdout",
     "output_type": "stream",
     "text": [
      "[30 31 32 33 34 35 36 37 38 39 40 41 42 43 44]\n"
     ]
    },
    {
     "data": {
      "text/plain": [
       "0     30\n",
       "1     31\n",
       "2     32\n",
       "3     33\n",
       "4     34\n",
       "      ..\n",
       "10    40\n",
       "11    41\n",
       "12    42\n",
       "13    43\n",
       "14    44\n",
       "Length: 15, dtype: int32"
      ]
     },
     "execution_count": 4,
     "metadata": {},
     "output_type": "execute_result"
    }
   ],
   "source": [
    "#para ello debo importar numpy, eso va siempre arriba\n",
    "array_1 = np.array(range(30,45))\n",
    "print(array_1)\n",
    "#genero serie\n",
    "serie_array = pd.Series(array_1)\n",
    "serie_array"
   ]
  },
  {
   "cell_type": "markdown",
   "metadata": {
    "id": "_s64UVr9ob_H"
   },
   "source": [
    "* Lista"
   ]
  },
  {
   "cell_type": "code",
   "execution_count": 5,
   "metadata": {
    "colab": {
     "base_uri": "https://localhost:8080/",
     "height": 585
    },
    "executionInfo": {
     "elapsed": 12,
     "status": "ok",
     "timestamp": 1744311142709,
     "user": {
      "displayName": "Ignacio Alianak",
      "userId": "06196950665750437451"
     },
     "user_tz": -120
    },
    "id": "eXlFlfi3oeU6",
    "outputId": "7dbe6b45-3818-4c91-afb4-380c3218b260"
   },
   "outputs": [
    {
     "data": {
      "text/plain": [
       "0     3\n",
       "1     4\n",
       "2     5\n",
       "3     6\n",
       "4     3\n",
       "     ..\n",
       "11    5\n",
       "12    3\n",
       "13    3\n",
       "14    4\n",
       "15    5\n",
       "Length: 16, dtype: int64"
      ]
     },
     "execution_count": 5,
     "metadata": {},
     "output_type": "execute_result"
    }
   ],
   "source": [
    "lista_num = [3,4,5,6,3,8,5,3,4,5,6,5,3,3,4,5]\n",
    "serie_lista = pd.Series(lista_num)\n",
    "serie_lista"
   ]
  },
  {
   "cell_type": "markdown",
   "metadata": {
    "id": "tj99HpkFpBbw"
   },
   "source": [
    "* Diccionario"
   ]
  },
  {
   "cell_type": "code",
   "execution_count": 6,
   "metadata": {
    "executionInfo": {
     "elapsed": 4,
     "status": "ok",
     "timestamp": 1744311145960,
     "user": {
      "displayName": "Ignacio Alianak",
      "userId": "06196950665750437451"
     },
     "user_tz": -120
    },
    "id": "IF9gE2YYpEBc"
   },
   "outputs": [],
   "source": [
    "poblacion_pais = {'China' : 1411,\n",
    "                  'India' : 1367,\n",
    "                  'Estados Unidos' : 328,\n",
    "                  'Indonesia' : 264,\n",
    "                  'Pakistan' : 233,\n",
    "                  'Brasil' : 212,\n",
    "                  'Nigeria' : 206,\n",
    "                  'Bangladesh' : 164,\n",
    "                  'Rusia' : 145,\n",
    "                  'Mexico' : 128}"
   ]
  },
  {
   "cell_type": "code",
   "execution_count": 7,
   "metadata": {
    "colab": {
     "base_uri": "https://localhost:8080/",
     "height": 397
    },
    "collapsed": true,
    "executionInfo": {
     "elapsed": 6,
     "status": "ok",
     "timestamp": 1744311151890,
     "user": {
      "displayName": "Ignacio Alianak",
      "userId": "06196950665750437451"
     },
     "user_tz": -120
    },
    "id": "0tH248lvpm0x",
    "outputId": "1aa60466-604c-40a8-d72b-2b0f405ce021"
   },
   "outputs": [
    {
     "data": {
      "text/plain": [
       "China             1411\n",
       "India             1367\n",
       "Estados Unidos     328\n",
       "Indonesia          264\n",
       "Pakistan           233\n",
       "Brasil             212\n",
       "Nigeria            206\n",
       "Bangladesh         164\n",
       "Rusia              145\n",
       "Mexico             128\n",
       "dtype: int64"
      ]
     },
     "execution_count": 7,
     "metadata": {},
     "output_type": "execute_result"
    }
   ],
   "source": [
    "serie_poblacion = pd.Series(poblacion_pais)\n",
    "serie_poblacion"
   ]
  },
  {
   "cell_type": "markdown",
   "metadata": {
    "id": "-H_00I-Aqgy-"
   },
   "source": [
    "###Indexación series\n",
    "- Posición"
   ]
  },
  {
   "cell_type": "code",
   "execution_count": 8,
   "metadata": {
    "colab": {
     "base_uri": "https://localhost:8080/"
    },
    "executionInfo": {
     "elapsed": 14,
     "status": "ok",
     "timestamp": 1744311158399,
     "user": {
      "displayName": "Ignacio Alianak",
      "userId": "06196950665750437451"
     },
     "user_tz": -120
    },
    "id": "5dr9Sfaxqp-_",
    "outputId": "bdc70dcd-2331-41b8-8a2e-9170e46cbb4f"
   },
   "outputs": [
    {
     "name": "stdout",
     "output_type": "stream",
     "text": [
      "5\n",
      "3\n",
      "0    3\n",
      "1    4\n",
      "2    5\n",
      "3    6\n",
      "4    3\n",
      "dtype: int64\n"
     ]
    }
   ],
   "source": [
    "#print(serie_lista)\n",
    "print(serie_lista[9])\n",
    "print(serie_lista[0])\n",
    "print(serie_lista[0:5])"
   ]
  },
  {
   "cell_type": "markdown",
   "metadata": {
    "id": "s4zcA-zntE0b"
   },
   "source": [
    "* Etiqueta"
   ]
  },
  {
   "cell_type": "code",
   "execution_count": 9,
   "metadata": {
    "colab": {
     "base_uri": "https://localhost:8080/",
     "height": 397
    },
    "executionInfo": {
     "elapsed": 8,
     "status": "ok",
     "timestamp": 1744311161516,
     "user": {
      "displayName": "Ignacio Alianak",
      "userId": "06196950665750437451"
     },
     "user_tz": -120
    },
    "id": "fPbBTj7ytRFo",
    "outputId": "bdfbd04c-c392-4584-ca0b-c0ef4df037d3"
   },
   "outputs": [
    {
     "data": {
      "text/plain": [
       "China             1411\n",
       "India             1367\n",
       "Estados Unidos     328\n",
       "Indonesia          264\n",
       "Pakistan           233\n",
       "Brasil             212\n",
       "Nigeria            206\n",
       "Bangladesh         164\n",
       "Rusia              145\n",
       "Mexico             128\n",
       "dtype: int64"
      ]
     },
     "execution_count": 9,
     "metadata": {},
     "output_type": "execute_result"
    }
   ],
   "source": [
    "serie_poblacion"
   ]
  },
  {
   "cell_type": "code",
   "execution_count": 10,
   "metadata": {
    "colab": {
     "base_uri": "https://localhost:8080/"
    },
    "executionInfo": {
     "elapsed": 5,
     "status": "ok",
     "timestamp": 1744311163460,
     "user": {
      "displayName": "Ignacio Alianak",
      "userId": "06196950665750437451"
     },
     "user_tz": -120
    },
    "id": "oGMVfrBMq-HU",
    "outputId": "0bb947a1-8803-46db-b22f-7865b3cf6a41"
   },
   "outputs": [
    {
     "data": {
      "text/plain": [
       "164"
      ]
     },
     "execution_count": 10,
     "metadata": {},
     "output_type": "execute_result"
    }
   ],
   "source": [
    "serie_poblacion['Bangladesh']"
   ]
  },
  {
   "cell_type": "code",
   "execution_count": 11,
   "metadata": {
    "colab": {
     "base_uri": "https://localhost:8080/",
     "height": 178
    },
    "executionInfo": {
     "elapsed": 9,
     "status": "ok",
     "timestamp": 1744311165269,
     "user": {
      "displayName": "Ignacio Alianak",
      "userId": "06196950665750437451"
     },
     "user_tz": -120
    },
    "id": "9X4hbnvZu1Jw",
    "outputId": "b23f2ae3-bb48-416e-c2a7-6dca0af76bc6"
   },
   "outputs": [
    {
     "data": {
      "text/plain": [
       "Brasil            212\n",
       "Rusia             145\n",
       "Estados Unidos    328\n",
       "dtype: int64"
      ]
     },
     "execution_count": 11,
     "metadata": {},
     "output_type": "execute_result"
    }
   ],
   "source": [
    "lista_indices = ['Brasil', 'Rusia', 'Estados Unidos']\n",
    "serie_poblacion[lista_indices]"
   ]
  },
  {
   "cell_type": "markdown",
   "metadata": {
    "id": "Q0PWRT76iCQJ"
   },
   "source": [
    "\n",
    "---\n",
    "\n",
    "#>>DataFrames\n",
    "Conjunto de filas o columnas de datos, una Tabla\n",
    "\n",
    "-- Para crear dataframe => pd.DataFrame('data','indices(o)','columnas(o)')"
   ]
  },
  {
   "cell_type": "code",
   "execution_count": null,
   "metadata": {},
   "outputs": [],
   "source": []
  },
  {
   "cell_type": "markdown",
   "metadata": {
    "id": "15b03npoyp2K"
   },
   "source": [
    "* Diccionario"
   ]
  },
  {
   "cell_type": "code",
   "execution_count": 12,
   "metadata": {
    "executionInfo": {
     "elapsed": 6,
     "status": "ok",
     "timestamp": 1744311352622,
     "user": {
      "displayName": "Ignacio Alianak",
      "userId": "06196950665750437451"
     },
     "user_tz": -120
    },
    "id": "s1WQQNB3hy_b"
   },
   "outputs": [],
   "source": [
    "datos_paises = {\n",
    "    'País':['China','India','Estados Unidos','Indonesia','Pakistan','Brasil','Nigeria','Bangladesh','Rusia','Mexico'],\n",
    "    'Poblacion (millones)':[1411,1367,328,264,233,212,206,164,145,128],\n",
    "    'Continente':['Asia','Asia','Norteamerica','Asia','Asia','America','Africa','Asia','Europa','America'],\n",
    "    'PIB (Billones USD)': [17.73, 3.17, 23.32, 1.19, 0.35, 1.83, 0.45, 0.32, 1.71, 1.27]\n",
    "}"
   ]
  },
  {
   "cell_type": "code",
   "execution_count": 13,
   "metadata": {
    "colab": {
     "base_uri": "https://localhost:8080/"
    },
    "executionInfo": {
     "elapsed": 6,
     "status": "ok",
     "timestamp": 1744311172373,
     "user": {
      "displayName": "Ignacio Alianak",
      "userId": "06196950665750437451"
     },
     "user_tz": -120
    },
    "id": "UOKSWSJ9x5q1",
    "outputId": "4cab9429-3b7e-4441-db1a-03852224dbd8"
   },
   "outputs": [
    {
     "data": {
      "text/plain": [
       "10"
      ]
     },
     "execution_count": 13,
     "metadata": {},
     "output_type": "execute_result"
    }
   ],
   "source": [
    "#cuento cuantos tengo\n",
    "len(datos_paises['País'])"
   ]
  },
  {
   "cell_type": "code",
   "execution_count": 14,
   "metadata": {
    "colab": {
     "base_uri": "https://localhost:8080/",
     "height": 363
    },
    "executionInfo": {
     "elapsed": 75,
     "status": "ok",
     "timestamp": 1744311174323,
     "user": {
      "displayName": "Ignacio Alianak",
      "userId": "06196950665750437451"
     },
     "user_tz": -120
    },
    "id": "h4Z1fmC-yjSR",
    "outputId": "2535595b-ad4f-48b3-845a-d92a7b6c6107"
   },
   "outputs": [
    {
     "data": {
      "text/html": [
       "<div>\n",
       "<style scoped>\n",
       "    .dataframe tbody tr th:only-of-type {\n",
       "        vertical-align: middle;\n",
       "    }\n",
       "\n",
       "    .dataframe tbody tr th {\n",
       "        vertical-align: top;\n",
       "    }\n",
       "\n",
       "    .dataframe thead th {\n",
       "        text-align: right;\n",
       "    }\n",
       "</style>\n",
       "<table border=\"1\" class=\"dataframe\">\n",
       "  <thead>\n",
       "    <tr style=\"text-align: right;\">\n",
       "      <th></th>\n",
       "      <th>País</th>\n",
       "      <th>Poblacion (millones)</th>\n",
       "      <th>Continente</th>\n",
       "      <th>PIB (Billones USD)</th>\n",
       "    </tr>\n",
       "  </thead>\n",
       "  <tbody>\n",
       "    <tr>\n",
       "      <th>0</th>\n",
       "      <td>China</td>\n",
       "      <td>1411</td>\n",
       "      <td>Asia</td>\n",
       "      <td>17.73</td>\n",
       "    </tr>\n",
       "    <tr>\n",
       "      <th>1</th>\n",
       "      <td>India</td>\n",
       "      <td>1367</td>\n",
       "      <td>Asia</td>\n",
       "      <td>3.17</td>\n",
       "    </tr>\n",
       "    <tr>\n",
       "      <th>2</th>\n",
       "      <td>Estados Unidos</td>\n",
       "      <td>328</td>\n",
       "      <td>Norteamerica</td>\n",
       "      <td>23.32</td>\n",
       "    </tr>\n",
       "    <tr>\n",
       "      <th>3</th>\n",
       "      <td>Indonesia</td>\n",
       "      <td>264</td>\n",
       "      <td>Asia</td>\n",
       "      <td>1.19</td>\n",
       "    </tr>\n",
       "    <tr>\n",
       "      <th>4</th>\n",
       "      <td>Pakistan</td>\n",
       "      <td>233</td>\n",
       "      <td>Asia</td>\n",
       "      <td>0.35</td>\n",
       "    </tr>\n",
       "    <tr>\n",
       "      <th>5</th>\n",
       "      <td>Brasil</td>\n",
       "      <td>212</td>\n",
       "      <td>America</td>\n",
       "      <td>1.83</td>\n",
       "    </tr>\n",
       "    <tr>\n",
       "      <th>6</th>\n",
       "      <td>Nigeria</td>\n",
       "      <td>206</td>\n",
       "      <td>Africa</td>\n",
       "      <td>0.45</td>\n",
       "    </tr>\n",
       "    <tr>\n",
       "      <th>7</th>\n",
       "      <td>Bangladesh</td>\n",
       "      <td>164</td>\n",
       "      <td>Asia</td>\n",
       "      <td>0.32</td>\n",
       "    </tr>\n",
       "    <tr>\n",
       "      <th>8</th>\n",
       "      <td>Rusia</td>\n",
       "      <td>145</td>\n",
       "      <td>Europa</td>\n",
       "      <td>1.71</td>\n",
       "    </tr>\n",
       "    <tr>\n",
       "      <th>9</th>\n",
       "      <td>Mexico</td>\n",
       "      <td>128</td>\n",
       "      <td>America</td>\n",
       "      <td>1.27</td>\n",
       "    </tr>\n",
       "  </tbody>\n",
       "</table>\n",
       "</div>"
      ],
      "text/plain": [
       "             País  Poblacion (millones)    Continente  PIB (Billones USD)\n",
       "0           China                  1411          Asia               17.73\n",
       "1           India                  1367          Asia                3.17\n",
       "2  Estados Unidos                   328  Norteamerica               23.32\n",
       "3       Indonesia                   264          Asia                1.19\n",
       "4        Pakistan                   233          Asia                0.35\n",
       "5          Brasil                   212       America                1.83\n",
       "6         Nigeria                   206        Africa                0.45\n",
       "7      Bangladesh                   164          Asia                0.32\n",
       "8           Rusia                   145        Europa                1.71\n",
       "9          Mexico                   128       America                1.27"
      ]
     },
     "execution_count": 14,
     "metadata": {},
     "output_type": "execute_result"
    }
   ],
   "source": [
    "df = pd.DataFrame(datos_paises)\n",
    "df"
   ]
  },
  {
   "cell_type": "markdown",
   "metadata": {
    "id": "hYpXCe7Tz4Lg"
   },
   "source": [
    "* arrays"
   ]
  },
  {
   "cell_type": "code",
   "execution_count": 15,
   "metadata": {
    "colab": {
     "base_uri": "https://localhost:8080/"
    },
    "executionInfo": {
     "elapsed": 11,
     "status": "ok",
     "timestamp": 1744311176687,
     "user": {
      "displayName": "Ignacio Alianak",
      "userId": "06196950665750437451"
     },
     "user_tz": -120
    },
    "id": "d3dy9vEoBrWU",
    "outputId": "e49d6ebf-0147-4f5c-c20b-bcc6665378ff"
   },
   "outputs": [
    {
     "data": {
      "text/plain": [
       "array([['China', '1411', 'Asia', '17.73'],\n",
       "       ['India', '1367', 'Asia', '3.17'],\n",
       "       ['Estados Unidos', '331', 'America', '23.32'],\n",
       "       ['Indonesia', '264', 'Asia', '1.19'],\n",
       "       ['Pakistan', '233', 'Asia', '0.35'],\n",
       "       ['Brasil', '212', 'America', '1.83'],\n",
       "       ['Nigeria', '206', 'Africa', '0.45'],\n",
       "       ['Bangladesh', '164', 'Asia', '0.32'],\n",
       "       ['Rusia', '145', 'Europa', '1.71'],\n",
       "       ['México', '128', 'America', '1.27']], dtype='<U32')"
      ]
     },
     "execution_count": 15,
     "metadata": {},
     "output_type": "execute_result"
    }
   ],
   "source": [
    "datos_paises = np.array([\n",
    "    ['China', 1411, 'Asia', 17.73],\n",
    "    ['India', 1367, 'Asia', 3.17],\n",
    "    ['Estados Unidos', 331, 'America', 23.32],\n",
    "    ['Indonesia', 264, 'Asia', 1.19],\n",
    "    ['Pakistan', 233, 'Asia', 0.35],\n",
    "    ['Brasil', 212, 'America', 1.83],\n",
    "    ['Nigeria', 206, 'Africa', 0.45],\n",
    "    ['Bangladesh', 164, 'Asia', 0.32],\n",
    "    ['Rusia', 145, 'Europa', 1.71],\n",
    "    ['México', 128, 'America', 1.27]\n",
    "])\n",
    "datos_paises"
   ]
  },
  {
   "cell_type": "code",
   "execution_count": 16,
   "metadata": {
    "colab": {
     "base_uri": "https://localhost:8080/",
     "height": 363
    },
    "executionInfo": {
     "elapsed": 48,
     "status": "ok",
     "timestamp": 1744311201009,
     "user": {
      "displayName": "Ignacio Alianak",
      "userId": "06196950665750437451"
     },
     "user_tz": -120
    },
    "id": "29TpG6LRDIuN",
    "outputId": "4a631c8b-56ff-4a29-dccd-560eaf2d5efe"
   },
   "outputs": [
    {
     "data": {
      "text/html": [
       "<div>\n",
       "<style scoped>\n",
       "    .dataframe tbody tr th:only-of-type {\n",
       "        vertical-align: middle;\n",
       "    }\n",
       "\n",
       "    .dataframe tbody tr th {\n",
       "        vertical-align: top;\n",
       "    }\n",
       "\n",
       "    .dataframe thead th {\n",
       "        text-align: right;\n",
       "    }\n",
       "</style>\n",
       "<table border=\"1\" class=\"dataframe\">\n",
       "  <thead>\n",
       "    <tr style=\"text-align: right;\">\n",
       "      <th></th>\n",
       "      <th>0</th>\n",
       "      <th>1</th>\n",
       "      <th>2</th>\n",
       "      <th>3</th>\n",
       "    </tr>\n",
       "  </thead>\n",
       "  <tbody>\n",
       "    <tr>\n",
       "      <th>0</th>\n",
       "      <td>China</td>\n",
       "      <td>1411</td>\n",
       "      <td>Asia</td>\n",
       "      <td>17.73</td>\n",
       "    </tr>\n",
       "    <tr>\n",
       "      <th>1</th>\n",
       "      <td>India</td>\n",
       "      <td>1367</td>\n",
       "      <td>Asia</td>\n",
       "      <td>3.17</td>\n",
       "    </tr>\n",
       "    <tr>\n",
       "      <th>2</th>\n",
       "      <td>Estados Unidos</td>\n",
       "      <td>331</td>\n",
       "      <td>America</td>\n",
       "      <td>23.32</td>\n",
       "    </tr>\n",
       "    <tr>\n",
       "      <th>3</th>\n",
       "      <td>Indonesia</td>\n",
       "      <td>264</td>\n",
       "      <td>Asia</td>\n",
       "      <td>1.19</td>\n",
       "    </tr>\n",
       "    <tr>\n",
       "      <th>4</th>\n",
       "      <td>Pakistan</td>\n",
       "      <td>233</td>\n",
       "      <td>Asia</td>\n",
       "      <td>0.35</td>\n",
       "    </tr>\n",
       "    <tr>\n",
       "      <th>5</th>\n",
       "      <td>Brasil</td>\n",
       "      <td>212</td>\n",
       "      <td>America</td>\n",
       "      <td>1.83</td>\n",
       "    </tr>\n",
       "    <tr>\n",
       "      <th>6</th>\n",
       "      <td>Nigeria</td>\n",
       "      <td>206</td>\n",
       "      <td>Africa</td>\n",
       "      <td>0.45</td>\n",
       "    </tr>\n",
       "    <tr>\n",
       "      <th>7</th>\n",
       "      <td>Bangladesh</td>\n",
       "      <td>164</td>\n",
       "      <td>Asia</td>\n",
       "      <td>0.32</td>\n",
       "    </tr>\n",
       "    <tr>\n",
       "      <th>8</th>\n",
       "      <td>Rusia</td>\n",
       "      <td>145</td>\n",
       "      <td>Europa</td>\n",
       "      <td>1.71</td>\n",
       "    </tr>\n",
       "    <tr>\n",
       "      <th>9</th>\n",
       "      <td>México</td>\n",
       "      <td>128</td>\n",
       "      <td>America</td>\n",
       "      <td>1.27</td>\n",
       "    </tr>\n",
       "  </tbody>\n",
       "</table>\n",
       "</div>"
      ],
      "text/plain": [
       "                0     1        2      3\n",
       "0           China  1411     Asia  17.73\n",
       "1           India  1367     Asia   3.17\n",
       "2  Estados Unidos   331  America  23.32\n",
       "3       Indonesia   264     Asia   1.19\n",
       "4        Pakistan   233     Asia   0.35\n",
       "5          Brasil   212  America   1.83\n",
       "6         Nigeria   206   Africa   0.45\n",
       "7      Bangladesh   164     Asia   0.32\n",
       "8           Rusia   145   Europa   1.71\n",
       "9          México   128  America   1.27"
      ]
     },
     "execution_count": 16,
     "metadata": {},
     "output_type": "execute_result"
    }
   ],
   "source": [
    "df = pd.DataFrame(datos_paises)\n",
    "df"
   ]
  },
  {
   "cell_type": "code",
   "execution_count": 17,
   "metadata": {
    "colab": {
     "base_uri": "https://localhost:8080/",
     "height": 363
    },
    "executionInfo": {
     "elapsed": 49,
     "status": "ok",
     "timestamp": 1744311343950,
     "user": {
      "displayName": "Ignacio Alianak",
      "userId": "06196950665750437451"
     },
     "user_tz": -120
    },
    "id": "-SZ0qxOzDiC3",
    "outputId": "dec881c5-5d50-4f73-b526-7a482f8fa361"
   },
   "outputs": [
    {
     "data": {
      "text/html": [
       "<div>\n",
       "<style scoped>\n",
       "    .dataframe tbody tr th:only-of-type {\n",
       "        vertical-align: middle;\n",
       "    }\n",
       "\n",
       "    .dataframe tbody tr th {\n",
       "        vertical-align: top;\n",
       "    }\n",
       "\n",
       "    .dataframe thead th {\n",
       "        text-align: right;\n",
       "    }\n",
       "</style>\n",
       "<table border=\"1\" class=\"dataframe\">\n",
       "  <thead>\n",
       "    <tr style=\"text-align: right;\">\n",
       "      <th></th>\n",
       "      <th>País</th>\n",
       "      <th>Poblacion</th>\n",
       "      <th>Continente</th>\n",
       "      <th>PIB</th>\n",
       "    </tr>\n",
       "  </thead>\n",
       "  <tbody>\n",
       "    <tr>\n",
       "      <th>0</th>\n",
       "      <td>China</td>\n",
       "      <td>1411</td>\n",
       "      <td>Asia</td>\n",
       "      <td>17.73</td>\n",
       "    </tr>\n",
       "    <tr>\n",
       "      <th>1</th>\n",
       "      <td>India</td>\n",
       "      <td>1367</td>\n",
       "      <td>Asia</td>\n",
       "      <td>3.17</td>\n",
       "    </tr>\n",
       "    <tr>\n",
       "      <th>2</th>\n",
       "      <td>Estados Unidos</td>\n",
       "      <td>331</td>\n",
       "      <td>America</td>\n",
       "      <td>23.32</td>\n",
       "    </tr>\n",
       "    <tr>\n",
       "      <th>3</th>\n",
       "      <td>Indonesia</td>\n",
       "      <td>264</td>\n",
       "      <td>Asia</td>\n",
       "      <td>1.19</td>\n",
       "    </tr>\n",
       "    <tr>\n",
       "      <th>4</th>\n",
       "      <td>Pakistan</td>\n",
       "      <td>233</td>\n",
       "      <td>Asia</td>\n",
       "      <td>0.35</td>\n",
       "    </tr>\n",
       "    <tr>\n",
       "      <th>5</th>\n",
       "      <td>Brasil</td>\n",
       "      <td>212</td>\n",
       "      <td>America</td>\n",
       "      <td>1.83</td>\n",
       "    </tr>\n",
       "    <tr>\n",
       "      <th>6</th>\n",
       "      <td>Nigeria</td>\n",
       "      <td>206</td>\n",
       "      <td>Africa</td>\n",
       "      <td>0.45</td>\n",
       "    </tr>\n",
       "    <tr>\n",
       "      <th>7</th>\n",
       "      <td>Bangladesh</td>\n",
       "      <td>164</td>\n",
       "      <td>Asia</td>\n",
       "      <td>0.32</td>\n",
       "    </tr>\n",
       "    <tr>\n",
       "      <th>8</th>\n",
       "      <td>Rusia</td>\n",
       "      <td>145</td>\n",
       "      <td>Europa</td>\n",
       "      <td>1.71</td>\n",
       "    </tr>\n",
       "    <tr>\n",
       "      <th>9</th>\n",
       "      <td>México</td>\n",
       "      <td>128</td>\n",
       "      <td>America</td>\n",
       "      <td>1.27</td>\n",
       "    </tr>\n",
       "  </tbody>\n",
       "</table>\n",
       "</div>"
      ],
      "text/plain": [
       "             País Poblacion Continente    PIB\n",
       "0           China      1411       Asia  17.73\n",
       "1           India      1367       Asia   3.17\n",
       "2  Estados Unidos       331    America  23.32\n",
       "3       Indonesia       264       Asia   1.19\n",
       "4        Pakistan       233       Asia   0.35\n",
       "5          Brasil       212    America   1.83\n",
       "6         Nigeria       206     Africa   0.45\n",
       "7      Bangladesh       164       Asia   0.32\n",
       "8           Rusia       145     Europa   1.71\n",
       "9          México       128    America   1.27"
      ]
     },
     "execution_count": 17,
     "metadata": {},
     "output_type": "execute_result"
    }
   ],
   "source": [
    "#Nombres en columnas\n",
    "df = pd.DataFrame(datos_paises, columns=['País','Poblacion','Continente','PIB'])\n",
    "df"
   ]
  },
  {
   "cell_type": "markdown",
   "metadata": {
    "id": "hWnXm-mIEMny"
   },
   "source": [
    "\n",
    "\n",
    "---\n",
    "\n",
    "\n",
    "##APERTURA ARCHIVOS\n",
    "\n",
    "->>>>> EXCEL\n",
    "- Pongo ruta y tambien puedo abrir hojas, si tengo más de una."
   ]
  },
  {
   "cell_type": "code",
   "execution_count": 18,
   "metadata": {
    "id": "0Tj7pBRQEILW"
   },
   "outputs": [
    {
     "data": {
      "text/html": [
       "<div>\n",
       "<style scoped>\n",
       "    .dataframe tbody tr th:only-of-type {\n",
       "        vertical-align: middle;\n",
       "    }\n",
       "\n",
       "    .dataframe tbody tr th {\n",
       "        vertical-align: top;\n",
       "    }\n",
       "\n",
       "    .dataframe thead th {\n",
       "        text-align: right;\n",
       "    }\n",
       "</style>\n",
       "<table border=\"1\" class=\"dataframe\">\n",
       "  <thead>\n",
       "    <tr style=\"text-align: right;\">\n",
       "      <th></th>\n",
       "      <th>Empleado</th>\n",
       "      <th>Departamento</th>\n",
       "      <th>Salario</th>\n",
       "    </tr>\n",
       "  </thead>\n",
       "  <tbody>\n",
       "    <tr>\n",
       "      <th>0</th>\n",
       "      <td>Juan</td>\n",
       "      <td>Ventas</td>\n",
       "      <td>50000</td>\n",
       "    </tr>\n",
       "    <tr>\n",
       "      <th>1</th>\n",
       "      <td>Ana</td>\n",
       "      <td>Marketing</td>\n",
       "      <td>55000</td>\n",
       "    </tr>\n",
       "    <tr>\n",
       "      <th>2</th>\n",
       "      <td>Luis</td>\n",
       "      <td>IT</td>\n",
       "      <td>60000</td>\n",
       "    </tr>\n",
       "    <tr>\n",
       "      <th>3</th>\n",
       "      <td>Marta</td>\n",
       "      <td>Finanzas</td>\n",
       "      <td>65000</td>\n",
       "    </tr>\n",
       "  </tbody>\n",
       "</table>\n",
       "</div>"
      ],
      "text/plain": [
       "  Empleado Departamento  Salario\n",
       "0     Juan       Ventas    50000\n",
       "1      Ana    Marketing    55000\n",
       "2     Luis           IT    60000\n",
       "3    Marta     Finanzas    65000"
      ]
     },
     "execution_count": 18,
     "metadata": {},
     "output_type": "execute_result"
    }
   ],
   "source": [
    "df = pd.read_excel('Data/abrir_excel.xlsx', sheet_name='Empleados')\n",
    "df"
   ]
  },
  {
   "cell_type": "markdown",
   "metadata": {},
   "source": [
    "->>>>> JSON"
   ]
  },
  {
   "cell_type": "code",
   "execution_count": 19,
   "metadata": {},
   "outputs": [
    {
     "data": {
      "text/html": [
       "<div>\n",
       "<style scoped>\n",
       "    .dataframe tbody tr th:only-of-type {\n",
       "        vertical-align: middle;\n",
       "    }\n",
       "\n",
       "    .dataframe tbody tr th {\n",
       "        vertical-align: top;\n",
       "    }\n",
       "\n",
       "    .dataframe thead th {\n",
       "        text-align: right;\n",
       "    }\n",
       "</style>\n",
       "<table border=\"1\" class=\"dataframe\">\n",
       "  <thead>\n",
       "    <tr style=\"text-align: right;\">\n",
       "      <th></th>\n",
       "      <th>Curso</th>\n",
       "      <th>Duración (horas)</th>\n",
       "      <th>Nivel</th>\n",
       "    </tr>\n",
       "  </thead>\n",
       "  <tbody>\n",
       "    <tr>\n",
       "      <th>0</th>\n",
       "      <td>Python para Principiantes</td>\n",
       "      <td>40</td>\n",
       "      <td>Básico</td>\n",
       "    </tr>\n",
       "    <tr>\n",
       "      <th>1</th>\n",
       "      <td>Análisis de Datos con Pandas</td>\n",
       "      <td>30</td>\n",
       "      <td>Intermedio</td>\n",
       "    </tr>\n",
       "    <tr>\n",
       "      <th>2</th>\n",
       "      <td>Machine Learning Avanzado</td>\n",
       "      <td>60</td>\n",
       "      <td>Avanzado</td>\n",
       "    </tr>\n",
       "    <tr>\n",
       "      <th>3</th>\n",
       "      <td>SQL para Data Science</td>\n",
       "      <td>25</td>\n",
       "      <td>Básico</td>\n",
       "    </tr>\n",
       "  </tbody>\n",
       "</table>\n",
       "</div>"
      ],
      "text/plain": [
       "                          Curso  Duración (horas)       Nivel\n",
       "0     Python para Principiantes                40      Básico\n",
       "1  Análisis de Datos con Pandas                30  Intermedio\n",
       "2     Machine Learning Avanzado                60    Avanzado\n",
       "3         SQL para Data Science                25      Básico"
      ]
     },
     "execution_count": 19,
     "metadata": {},
     "output_type": "execute_result"
    }
   ],
   "source": [
    "df = pd.read_json('Data/abrir_json.json')\n",
    "df"
   ]
  },
  {
   "cell_type": "markdown",
   "metadata": {},
   "source": [
    "->>>>> CSV"
   ]
  },
  {
   "cell_type": "code",
   "execution_count": 21,
   "metadata": {},
   "outputs": [
    {
     "data": {
      "text/html": [
       "<div>\n",
       "<style scoped>\n",
       "    .dataframe tbody tr th:only-of-type {\n",
       "        vertical-align: middle;\n",
       "    }\n",
       "\n",
       "    .dataframe tbody tr th {\n",
       "        vertical-align: top;\n",
       "    }\n",
       "\n",
       "    .dataframe thead th {\n",
       "        text-align: right;\n",
       "    }\n",
       "</style>\n",
       "<table border=\"1\" class=\"dataframe\">\n",
       "  <thead>\n",
       "    <tr style=\"text-align: right;\">\n",
       "      <th></th>\n",
       "      <th>InvoiceNo</th>\n",
       "      <th>StockCode</th>\n",
       "      <th>Description</th>\n",
       "      <th>Quantity</th>\n",
       "      <th>InvoiceDate</th>\n",
       "      <th>UnitPrice</th>\n",
       "      <th>CustomerID</th>\n",
       "      <th>Country</th>\n",
       "      <th>Discount</th>\n",
       "    </tr>\n",
       "  </thead>\n",
       "  <tbody>\n",
       "    <tr>\n",
       "      <th>0</th>\n",
       "      <td>221958</td>\n",
       "      <td>SKU_1964</td>\n",
       "      <td>White Mug</td>\n",
       "      <td>38</td>\n",
       "      <td>2020-01-01 00:00</td>\n",
       "      <td>1.71</td>\n",
       "      <td>37039.0</td>\n",
       "      <td>Australia</td>\n",
       "      <td>0.470000</td>\n",
       "    </tr>\n",
       "    <tr>\n",
       "      <th>1</th>\n",
       "      <td>771155</td>\n",
       "      <td>SKU_1241</td>\n",
       "      <td>White Mug</td>\n",
       "      <td>18</td>\n",
       "      <td>2020-01-01 01:00</td>\n",
       "      <td>41.25</td>\n",
       "      <td>19144.0</td>\n",
       "      <td>Spain</td>\n",
       "      <td>0.190000</td>\n",
       "    </tr>\n",
       "    <tr>\n",
       "      <th>2</th>\n",
       "      <td>231932</td>\n",
       "      <td>SKU_1501</td>\n",
       "      <td>Headphones</td>\n",
       "      <td>49</td>\n",
       "      <td>2020-01-01 02:00</td>\n",
       "      <td>29.11</td>\n",
       "      <td>50472.0</td>\n",
       "      <td>Germany</td>\n",
       "      <td>0.350000</td>\n",
       "    </tr>\n",
       "    <tr>\n",
       "      <th>3</th>\n",
       "      <td>465838</td>\n",
       "      <td>SKU_1760</td>\n",
       "      <td>Desk Lamp</td>\n",
       "      <td>14</td>\n",
       "      <td>2020-01-01 03:00</td>\n",
       "      <td>76.68</td>\n",
       "      <td>96586.0</td>\n",
       "      <td>Netherlands</td>\n",
       "      <td>0.140000</td>\n",
       "    </tr>\n",
       "    <tr>\n",
       "      <th>4</th>\n",
       "      <td>359178</td>\n",
       "      <td>SKU_1386</td>\n",
       "      <td>USB Cable</td>\n",
       "      <td>-30</td>\n",
       "      <td>2020-01-01 04:00</td>\n",
       "      <td>-68.11</td>\n",
       "      <td>NaN</td>\n",
       "      <td>United Kingdom</td>\n",
       "      <td>1.501433</td>\n",
       "    </tr>\n",
       "    <tr>\n",
       "      <th>...</th>\n",
       "      <td>...</td>\n",
       "      <td>...</td>\n",
       "      <td>...</td>\n",
       "      <td>...</td>\n",
       "      <td>...</td>\n",
       "      <td>...</td>\n",
       "      <td>...</td>\n",
       "      <td>...</td>\n",
       "      <td>...</td>\n",
       "    </tr>\n",
       "    <tr>\n",
       "      <th>26299</th>\n",
       "      <td>714639</td>\n",
       "      <td>SKU_1501</td>\n",
       "      <td>White Mug</td>\n",
       "      <td>16</td>\n",
       "      <td>2022-12-31 19:00</td>\n",
       "      <td>92.30</td>\n",
       "      <td>64303.0</td>\n",
       "      <td>Italy</td>\n",
       "      <td>0.470000</td>\n",
       "    </tr>\n",
       "    <tr>\n",
       "      <th>26300</th>\n",
       "      <td>411009</td>\n",
       "      <td>SKU_1224</td>\n",
       "      <td>Desk Lamp</td>\n",
       "      <td>46</td>\n",
       "      <td>2022-12-31 20:00</td>\n",
       "      <td>92.88</td>\n",
       "      <td>31181.0</td>\n",
       "      <td>Portugal</td>\n",
       "      <td>0.290000</td>\n",
       "    </tr>\n",
       "    <tr>\n",
       "      <th>26301</th>\n",
       "      <td>154457</td>\n",
       "      <td>SKU_1613</td>\n",
       "      <td>Wall Clock</td>\n",
       "      <td>38</td>\n",
       "      <td>2022-12-31 21:00</td>\n",
       "      <td>42.04</td>\n",
       "      <td>40235.0</td>\n",
       "      <td>United States</td>\n",
       "      <td>0.490000</td>\n",
       "    </tr>\n",
       "    <tr>\n",
       "      <th>26302</th>\n",
       "      <td>190159</td>\n",
       "      <td>SKU_1098</td>\n",
       "      <td>Wireless Mouse</td>\n",
       "      <td>-15</td>\n",
       "      <td>2022-12-31 22:00</td>\n",
       "      <td>-48.03</td>\n",
       "      <td>NaN</td>\n",
       "      <td>Norway</td>\n",
       "      <td>1.116054</td>\n",
       "    </tr>\n",
       "    <tr>\n",
       "      <th>26303</th>\n",
       "      <td>300065</td>\n",
       "      <td>SKU_1306</td>\n",
       "      <td>Desk Lamp</td>\n",
       "      <td>-24</td>\n",
       "      <td>2022-12-31 23:00</td>\n",
       "      <td>-76.69</td>\n",
       "      <td>NaN</td>\n",
       "      <td>Spain</td>\n",
       "      <td>1.235000</td>\n",
       "    </tr>\n",
       "  </tbody>\n",
       "</table>\n",
       "<p>26304 rows × 9 columns</p>\n",
       "</div>"
      ],
      "text/plain": [
       "       InvoiceNo StockCode     Description  Quantity       InvoiceDate  \\\n",
       "0         221958  SKU_1964       White Mug        38  2020-01-01 00:00   \n",
       "1         771155  SKU_1241       White Mug        18  2020-01-01 01:00   \n",
       "2         231932  SKU_1501      Headphones        49  2020-01-01 02:00   \n",
       "3         465838  SKU_1760       Desk Lamp        14  2020-01-01 03:00   \n",
       "4         359178  SKU_1386       USB Cable       -30  2020-01-01 04:00   \n",
       "...          ...       ...             ...       ...               ...   \n",
       "26299     714639  SKU_1501       White Mug        16  2022-12-31 19:00   \n",
       "26300     411009  SKU_1224       Desk Lamp        46  2022-12-31 20:00   \n",
       "26301     154457  SKU_1613      Wall Clock        38  2022-12-31 21:00   \n",
       "26302     190159  SKU_1098  Wireless Mouse       -15  2022-12-31 22:00   \n",
       "26303     300065  SKU_1306       Desk Lamp       -24  2022-12-31 23:00   \n",
       "\n",
       "       UnitPrice  CustomerID         Country  Discount  \n",
       "0           1.71     37039.0       Australia  0.470000  \n",
       "1          41.25     19144.0           Spain  0.190000  \n",
       "2          29.11     50472.0         Germany  0.350000  \n",
       "3          76.68     96586.0     Netherlands  0.140000  \n",
       "4         -68.11         NaN  United Kingdom  1.501433  \n",
       "...          ...         ...             ...       ...  \n",
       "26299      92.30     64303.0           Italy  0.470000  \n",
       "26300      92.88     31181.0        Portugal  0.290000  \n",
       "26301      42.04     40235.0   United States  0.490000  \n",
       "26302     -48.03         NaN          Norway  1.116054  \n",
       "26303     -76.69         NaN           Spain  1.235000  \n",
       "\n",
       "[26304 rows x 9 columns]"
      ]
     },
     "execution_count": 21,
     "metadata": {},
     "output_type": "execute_result"
    }
   ],
   "source": [
    "df = pd.read_csv('Data/online_sales_2020-2022.csv', index_col=0)\n",
    "df\n",
    "\n",
    "#Está linitado desde el comienzo a 10 filas y columnas none.\n",
    "#Cunado creo indice, sino especifico, me lo pone por defecto. Fila \"Unmamed\" debo eliminar pero si ya lo tengo le indico \"index_col=0\" y lo reemplaza.\n",
    "#df es una variable, puedo cambiar el nombre a gusto, ej llamarlo \"sales\" si voy a crear varios sino df para hacer más rapido.\n",
    "\n",
    "#sales = pd.read_csv('Data/online_sales_2020-2022.csv', index_col=0)\n",
    "#sales'"
   ]
  },
  {
   "cell_type": "markdown",
   "metadata": {},
   "source": [
    "## Métodos Básicos de Pandas\n",
    "\n",
    "* head()\n",
    "\n",
    "-- Muestra las 5 primeras o el nº que le indique"
   ]
  },
  {
   "cell_type": "code",
   "execution_count": 47,
   "metadata": {},
   "outputs": [
    {
     "data": {
      "text/html": [
       "<div>\n",
       "<style scoped>\n",
       "    .dataframe tbody tr th:only-of-type {\n",
       "        vertical-align: middle;\n",
       "    }\n",
       "\n",
       "    .dataframe tbody tr th {\n",
       "        vertical-align: top;\n",
       "    }\n",
       "\n",
       "    .dataframe thead th {\n",
       "        text-align: right;\n",
       "    }\n",
       "</style>\n",
       "<table border=\"1\" class=\"dataframe\">\n",
       "  <thead>\n",
       "    <tr style=\"text-align: right;\">\n",
       "      <th></th>\n",
       "      <th>InvoiceNo</th>\n",
       "      <th>StockCode</th>\n",
       "      <th>Description</th>\n",
       "      <th>Quantity</th>\n",
       "      <th>InvoiceDate</th>\n",
       "      <th>UnitPrice</th>\n",
       "      <th>CustomerID</th>\n",
       "      <th>Country</th>\n",
       "      <th>Discount</th>\n",
       "    </tr>\n",
       "  </thead>\n",
       "  <tbody>\n",
       "    <tr>\n",
       "      <th>0</th>\n",
       "      <td>221958</td>\n",
       "      <td>SKU_1964</td>\n",
       "      <td>White Mug</td>\n",
       "      <td>38</td>\n",
       "      <td>2020-01-01 00:00</td>\n",
       "      <td>1.71</td>\n",
       "      <td>37039.0</td>\n",
       "      <td>Australia</td>\n",
       "      <td>0.470000</td>\n",
       "    </tr>\n",
       "    <tr>\n",
       "      <th>1</th>\n",
       "      <td>771155</td>\n",
       "      <td>SKU_1241</td>\n",
       "      <td>White Mug</td>\n",
       "      <td>18</td>\n",
       "      <td>2020-01-01 01:00</td>\n",
       "      <td>41.25</td>\n",
       "      <td>19144.0</td>\n",
       "      <td>Spain</td>\n",
       "      <td>0.190000</td>\n",
       "    </tr>\n",
       "    <tr>\n",
       "      <th>2</th>\n",
       "      <td>231932</td>\n",
       "      <td>SKU_1501</td>\n",
       "      <td>Headphones</td>\n",
       "      <td>49</td>\n",
       "      <td>2020-01-01 02:00</td>\n",
       "      <td>29.11</td>\n",
       "      <td>50472.0</td>\n",
       "      <td>Germany</td>\n",
       "      <td>0.350000</td>\n",
       "    </tr>\n",
       "    <tr>\n",
       "      <th>3</th>\n",
       "      <td>465838</td>\n",
       "      <td>SKU_1760</td>\n",
       "      <td>Desk Lamp</td>\n",
       "      <td>14</td>\n",
       "      <td>2020-01-01 03:00</td>\n",
       "      <td>76.68</td>\n",
       "      <td>96586.0</td>\n",
       "      <td>Netherlands</td>\n",
       "      <td>0.140000</td>\n",
       "    </tr>\n",
       "    <tr>\n",
       "      <th>4</th>\n",
       "      <td>359178</td>\n",
       "      <td>SKU_1386</td>\n",
       "      <td>USB Cable</td>\n",
       "      <td>-30</td>\n",
       "      <td>2020-01-01 04:00</td>\n",
       "      <td>-68.11</td>\n",
       "      <td>NaN</td>\n",
       "      <td>United Kingdom</td>\n",
       "      <td>1.501433</td>\n",
       "    </tr>\n",
       "  </tbody>\n",
       "</table>\n",
       "</div>"
      ],
      "text/plain": [
       "   InvoiceNo StockCode Description  Quantity       InvoiceDate  UnitPrice  \\\n",
       "0     221958  SKU_1964   White Mug        38  2020-01-01 00:00       1.71   \n",
       "1     771155  SKU_1241   White Mug        18  2020-01-01 01:00      41.25   \n",
       "2     231932  SKU_1501  Headphones        49  2020-01-01 02:00      29.11   \n",
       "3     465838  SKU_1760   Desk Lamp        14  2020-01-01 03:00      76.68   \n",
       "4     359178  SKU_1386   USB Cable       -30  2020-01-01 04:00     -68.11   \n",
       "\n",
       "   CustomerID         Country  Discount  \n",
       "0     37039.0       Australia  0.470000  \n",
       "1     19144.0           Spain  0.190000  \n",
       "2     50472.0         Germany  0.350000  \n",
       "3     96586.0     Netherlands  0.140000  \n",
       "4         NaN  United Kingdom  1.501433  "
      ]
     },
     "execution_count": 47,
     "metadata": {},
     "output_type": "execute_result"
    }
   ],
   "source": [
    "df.head() #muestra las 10 primeras filas\n"
   ]
  },
  {
   "cell_type": "markdown",
   "metadata": {},
   "source": [
    "* tail()\n",
    "\n",
    "-- Muestra las 5 últimas o el nº que le indique"
   ]
  },
  {
   "cell_type": "code",
   "execution_count": 48,
   "metadata": {},
   "outputs": [
    {
     "data": {
      "text/html": [
       "<div>\n",
       "<style scoped>\n",
       "    .dataframe tbody tr th:only-of-type {\n",
       "        vertical-align: middle;\n",
       "    }\n",
       "\n",
       "    .dataframe tbody tr th {\n",
       "        vertical-align: top;\n",
       "    }\n",
       "\n",
       "    .dataframe thead th {\n",
       "        text-align: right;\n",
       "    }\n",
       "</style>\n",
       "<table border=\"1\" class=\"dataframe\">\n",
       "  <thead>\n",
       "    <tr style=\"text-align: right;\">\n",
       "      <th></th>\n",
       "      <th>InvoiceNo</th>\n",
       "      <th>StockCode</th>\n",
       "      <th>Description</th>\n",
       "      <th>Quantity</th>\n",
       "      <th>InvoiceDate</th>\n",
       "      <th>UnitPrice</th>\n",
       "      <th>CustomerID</th>\n",
       "      <th>Country</th>\n",
       "      <th>Discount</th>\n",
       "    </tr>\n",
       "  </thead>\n",
       "  <tbody>\n",
       "    <tr>\n",
       "      <th>26299</th>\n",
       "      <td>714639</td>\n",
       "      <td>SKU_1501</td>\n",
       "      <td>White Mug</td>\n",
       "      <td>16</td>\n",
       "      <td>2022-12-31 19:00</td>\n",
       "      <td>92.30</td>\n",
       "      <td>64303.0</td>\n",
       "      <td>Italy</td>\n",
       "      <td>0.470000</td>\n",
       "    </tr>\n",
       "    <tr>\n",
       "      <th>26300</th>\n",
       "      <td>411009</td>\n",
       "      <td>SKU_1224</td>\n",
       "      <td>Desk Lamp</td>\n",
       "      <td>46</td>\n",
       "      <td>2022-12-31 20:00</td>\n",
       "      <td>92.88</td>\n",
       "      <td>31181.0</td>\n",
       "      <td>Portugal</td>\n",
       "      <td>0.290000</td>\n",
       "    </tr>\n",
       "    <tr>\n",
       "      <th>26301</th>\n",
       "      <td>154457</td>\n",
       "      <td>SKU_1613</td>\n",
       "      <td>Wall Clock</td>\n",
       "      <td>38</td>\n",
       "      <td>2022-12-31 21:00</td>\n",
       "      <td>42.04</td>\n",
       "      <td>40235.0</td>\n",
       "      <td>United States</td>\n",
       "      <td>0.490000</td>\n",
       "    </tr>\n",
       "    <tr>\n",
       "      <th>26302</th>\n",
       "      <td>190159</td>\n",
       "      <td>SKU_1098</td>\n",
       "      <td>Wireless Mouse</td>\n",
       "      <td>-15</td>\n",
       "      <td>2022-12-31 22:00</td>\n",
       "      <td>-48.03</td>\n",
       "      <td>NaN</td>\n",
       "      <td>Norway</td>\n",
       "      <td>1.116054</td>\n",
       "    </tr>\n",
       "    <tr>\n",
       "      <th>26303</th>\n",
       "      <td>300065</td>\n",
       "      <td>SKU_1306</td>\n",
       "      <td>Desk Lamp</td>\n",
       "      <td>-24</td>\n",
       "      <td>2022-12-31 23:00</td>\n",
       "      <td>-76.69</td>\n",
       "      <td>NaN</td>\n",
       "      <td>Spain</td>\n",
       "      <td>1.235000</td>\n",
       "    </tr>\n",
       "  </tbody>\n",
       "</table>\n",
       "</div>"
      ],
      "text/plain": [
       "       InvoiceNo StockCode     Description  Quantity       InvoiceDate  \\\n",
       "26299     714639  SKU_1501       White Mug        16  2022-12-31 19:00   \n",
       "26300     411009  SKU_1224       Desk Lamp        46  2022-12-31 20:00   \n",
       "26301     154457  SKU_1613      Wall Clock        38  2022-12-31 21:00   \n",
       "26302     190159  SKU_1098  Wireless Mouse       -15  2022-12-31 22:00   \n",
       "26303     300065  SKU_1306       Desk Lamp       -24  2022-12-31 23:00   \n",
       "\n",
       "       UnitPrice  CustomerID        Country  Discount  \n",
       "26299      92.30     64303.0          Italy  0.470000  \n",
       "26300      92.88     31181.0       Portugal  0.290000  \n",
       "26301      42.04     40235.0  United States  0.490000  \n",
       "26302     -48.03         NaN         Norway  1.116054  \n",
       "26303     -76.69         NaN          Spain  1.235000  "
      ]
     },
     "execution_count": 48,
     "metadata": {},
     "output_type": "execute_result"
    }
   ],
   "source": [
    "df.tail()"
   ]
  },
  {
   "cell_type": "markdown",
   "metadata": {},
   "source": [
    "* sample()\n",
    "\n",
    "-- Muestra fila al azar o el nº que le indique >> es mucho más útil que los anteriores"
   ]
  },
  {
   "cell_type": "code",
   "execution_count": 49,
   "metadata": {},
   "outputs": [
    {
     "data": {
      "text/html": [
       "<div>\n",
       "<style scoped>\n",
       "    .dataframe tbody tr th:only-of-type {\n",
       "        vertical-align: middle;\n",
       "    }\n",
       "\n",
       "    .dataframe tbody tr th {\n",
       "        vertical-align: top;\n",
       "    }\n",
       "\n",
       "    .dataframe thead th {\n",
       "        text-align: right;\n",
       "    }\n",
       "</style>\n",
       "<table border=\"1\" class=\"dataframe\">\n",
       "  <thead>\n",
       "    <tr style=\"text-align: right;\">\n",
       "      <th></th>\n",
       "      <th>InvoiceNo</th>\n",
       "      <th>StockCode</th>\n",
       "      <th>Description</th>\n",
       "      <th>Quantity</th>\n",
       "      <th>InvoiceDate</th>\n",
       "      <th>UnitPrice</th>\n",
       "      <th>CustomerID</th>\n",
       "      <th>Country</th>\n",
       "      <th>Discount</th>\n",
       "    </tr>\n",
       "  </thead>\n",
       "  <tbody>\n",
       "    <tr>\n",
       "      <th>17432</th>\n",
       "      <td>573875</td>\n",
       "      <td>SKU_1806</td>\n",
       "      <td>Office Chair</td>\n",
       "      <td>48</td>\n",
       "      <td>2021-12-27 08:00</td>\n",
       "      <td>64.18</td>\n",
       "      <td>92995.0</td>\n",
       "      <td>Australia</td>\n",
       "      <td>0.20</td>\n",
       "    </tr>\n",
       "    <tr>\n",
       "      <th>22743</th>\n",
       "      <td>383080</td>\n",
       "      <td>SKU_1968</td>\n",
       "      <td>White Mug</td>\n",
       "      <td>21</td>\n",
       "      <td>2022-08-05 15:00</td>\n",
       "      <td>80.16</td>\n",
       "      <td>69413.0</td>\n",
       "      <td>France</td>\n",
       "      <td>0.21</td>\n",
       "    </tr>\n",
       "    <tr>\n",
       "      <th>21197</th>\n",
       "      <td>212808</td>\n",
       "      <td>SKU_1323</td>\n",
       "      <td>White Mug</td>\n",
       "      <td>31</td>\n",
       "      <td>2022-06-02 05:00</td>\n",
       "      <td>62.17</td>\n",
       "      <td>22495.0</td>\n",
       "      <td>Sweden</td>\n",
       "      <td>0.39</td>\n",
       "    </tr>\n",
       "    <tr>\n",
       "      <th>7525</th>\n",
       "      <td>142674</td>\n",
       "      <td>SKU_1191</td>\n",
       "      <td>Wall Clock</td>\n",
       "      <td>14</td>\n",
       "      <td>2020-11-09 13:00</td>\n",
       "      <td>79.54</td>\n",
       "      <td>22254.0</td>\n",
       "      <td>Sweden</td>\n",
       "      <td>0.21</td>\n",
       "    </tr>\n",
       "    <tr>\n",
       "      <th>11533</th>\n",
       "      <td>216603</td>\n",
       "      <td>SKU_1570</td>\n",
       "      <td>USB Cable</td>\n",
       "      <td>25</td>\n",
       "      <td>2021-04-25 13:00</td>\n",
       "      <td>8.67</td>\n",
       "      <td>53793.0</td>\n",
       "      <td>United States</td>\n",
       "      <td>0.28</td>\n",
       "    </tr>\n",
       "  </tbody>\n",
       "</table>\n",
       "</div>"
      ],
      "text/plain": [
       "       InvoiceNo StockCode   Description  Quantity       InvoiceDate  \\\n",
       "17432     573875  SKU_1806  Office Chair        48  2021-12-27 08:00   \n",
       "22743     383080  SKU_1968     White Mug        21  2022-08-05 15:00   \n",
       "21197     212808  SKU_1323     White Mug        31  2022-06-02 05:00   \n",
       "7525      142674  SKU_1191    Wall Clock        14  2020-11-09 13:00   \n",
       "11533     216603  SKU_1570     USB Cable        25  2021-04-25 13:00   \n",
       "\n",
       "       UnitPrice  CustomerID        Country  Discount  \n",
       "17432      64.18     92995.0      Australia      0.20  \n",
       "22743      80.16     69413.0         France      0.21  \n",
       "21197      62.17     22495.0         Sweden      0.39  \n",
       "7525       79.54     22254.0         Sweden      0.21  \n",
       "11533       8.67     53793.0  United States      0.28  "
      ]
     },
     "execution_count": 49,
     "metadata": {},
     "output_type": "execute_result"
    }
   ],
   "source": [
    "df.sample(5)"
   ]
  },
  {
   "cell_type": "markdown",
   "metadata": {},
   "source": [
    "* shape()\n",
    "\n",
    "-- Muestra el nº de filas y columnas de DF, me devuelve una tupla."
   ]
  },
  {
   "cell_type": "code",
   "execution_count": 50,
   "metadata": {},
   "outputs": [
    {
     "name": "stdout",
     "output_type": "stream",
     "text": [
      "En nuestro DF tenemos 26304 filas y 9 columnas\n"
     ]
    }
   ],
   "source": [
    "df.shape\n",
    "print(f'En nuestro DF tenemos {df.shape[0]} filas y {df.shape[1]} columnas')"
   ]
  },
  {
   "cell_type": "markdown",
   "metadata": {},
   "source": [
    "* size()\n",
    "\n",
    "-- Muestra el nº de celadas que tenemos en total (filas y columas, seria = df.shape[0]*df.shape[1])"
   ]
  },
  {
   "cell_type": "code",
   "execution_count": 51,
   "metadata": {},
   "outputs": [
    {
     "data": {
      "text/plain": [
       "236736"
      ]
     },
     "execution_count": 51,
     "metadata": {},
     "output_type": "execute_result"
    }
   ],
   "source": [
    "df.size"
   ]
  },
  {
   "cell_type": "markdown",
   "metadata": {},
   "source": [
    "* columns()\n",
    "\n",
    "-- Muestra lista con el nombre de columas, así no tengo que scrollar"
   ]
  },
  {
   "cell_type": "code",
   "execution_count": 52,
   "metadata": {},
   "outputs": [
    {
     "data": {
      "text/plain": [
       "Index(['InvoiceNo', 'StockCode', 'Description', 'Quantity', 'InvoiceDate',\n",
       "       'UnitPrice', 'CustomerID', 'Country', 'Discount'],\n",
       "      dtype='object')"
      ]
     },
     "execution_count": 52,
     "metadata": {},
     "output_type": "execute_result"
    }
   ],
   "source": [
    "df.columns"
   ]
  },
  {
   "cell_type": "code",
   "execution_count": 53,
   "metadata": {},
   "outputs": [
    {
     "name": "stdout",
     "output_type": "stream",
     "text": [
      "InvoiceNo\n",
      "StockCode\n",
      "Description\n",
      "Quantity\n",
      "InvoiceDate\n",
      "UnitPrice\n",
      "CustomerID\n",
      "Country\n",
      "Discount\n"
     ]
    }
   ],
   "source": [
    "#Puedo itarar por las columnas para verlas más comodamente.\n",
    "for col in df.columns:\n",
    "    print(col)"
   ]
  },
  {
   "cell_type": "markdown",
   "metadata": {},
   "source": [
    "* info()\n",
    "\n",
    "-- Muestra información general >> muy útil hacerlo al principio, ver tipo dato y si hay nulos."
   ]
  },
  {
   "cell_type": "code",
   "execution_count": 54,
   "metadata": {},
   "outputs": [
    {
     "name": "stdout",
     "output_type": "stream",
     "text": [
      "<class 'pandas.core.frame.DataFrame'>\n",
      "Index: 26304 entries, 0 to 26303\n",
      "Data columns (total 9 columns):\n",
      " #   Column       Non-Null Count  Dtype  \n",
      "---  ------       --------------  -----  \n",
      " 0   InvoiceNo    26304 non-null  int64  \n",
      " 1   StockCode    26304 non-null  object \n",
      " 2   Description  26304 non-null  object \n",
      " 3   Quantity     26304 non-null  int64  \n",
      " 4   InvoiceDate  26304 non-null  object \n",
      " 5   UnitPrice    26304 non-null  float64\n",
      " 6   CustomerID   23753 non-null  float64\n",
      " 7   Country      26304 non-null  object \n",
      " 8   Discount     26304 non-null  float64\n",
      "dtypes: float64(3), int64(2), object(4)\n",
      "memory usage: 2.0+ MB\n"
     ]
    }
   ],
   "source": [
    "df.info()"
   ]
  },
  {
   "cell_type": "markdown",
   "metadata": {},
   "source": [
    "* df.dtypes\n",
    "\n",
    "-- Muestra lo mismo que info pero tipo de dato"
   ]
  },
  {
   "cell_type": "code",
   "execution_count": 55,
   "metadata": {},
   "outputs": [
    {
     "data": {
      "text/plain": [
       "InvoiceNo        int64\n",
       "StockCode       object\n",
       "Description     object\n",
       "Quantity         int64\n",
       "InvoiceDate     object\n",
       "UnitPrice      float64\n",
       "CustomerID     float64\n",
       "Country         object\n",
       "Discount       float64\n",
       "dtype: object"
      ]
     },
     "execution_count": 55,
     "metadata": {},
     "output_type": "execute_result"
    }
   ],
   "source": [
    "df.dtypes"
   ]
  },
  {
   "cell_type": "markdown",
   "metadata": {},
   "source": [
    "* select_dtypes()\n",
    "\n",
    "-- Seleccionar ese tipo de dato concreto."
   ]
  },
  {
   "cell_type": "code",
   "execution_count": 59,
   "metadata": {},
   "outputs": [
    {
     "data": {
      "text/html": [
       "<div>\n",
       "<style scoped>\n",
       "    .dataframe tbody tr th:only-of-type {\n",
       "        vertical-align: middle;\n",
       "    }\n",
       "\n",
       "    .dataframe tbody tr th {\n",
       "        vertical-align: top;\n",
       "    }\n",
       "\n",
       "    .dataframe thead th {\n",
       "        text-align: right;\n",
       "    }\n",
       "</style>\n",
       "<table border=\"1\" class=\"dataframe\">\n",
       "  <thead>\n",
       "    <tr style=\"text-align: right;\">\n",
       "      <th></th>\n",
       "      <th>StockCode</th>\n",
       "      <th>Description</th>\n",
       "      <th>InvoiceDate</th>\n",
       "      <th>Country</th>\n",
       "    </tr>\n",
       "  </thead>\n",
       "  <tbody>\n",
       "    <tr>\n",
       "      <th>0</th>\n",
       "      <td>SKU_1964</td>\n",
       "      <td>White Mug</td>\n",
       "      <td>2020-01-01 00:00</td>\n",
       "      <td>Australia</td>\n",
       "    </tr>\n",
       "    <tr>\n",
       "      <th>1</th>\n",
       "      <td>SKU_1241</td>\n",
       "      <td>White Mug</td>\n",
       "      <td>2020-01-01 01:00</td>\n",
       "      <td>Spain</td>\n",
       "    </tr>\n",
       "    <tr>\n",
       "      <th>2</th>\n",
       "      <td>SKU_1501</td>\n",
       "      <td>Headphones</td>\n",
       "      <td>2020-01-01 02:00</td>\n",
       "      <td>Germany</td>\n",
       "    </tr>\n",
       "    <tr>\n",
       "      <th>3</th>\n",
       "      <td>SKU_1760</td>\n",
       "      <td>Desk Lamp</td>\n",
       "      <td>2020-01-01 03:00</td>\n",
       "      <td>Netherlands</td>\n",
       "    </tr>\n",
       "    <tr>\n",
       "      <th>4</th>\n",
       "      <td>SKU_1386</td>\n",
       "      <td>USB Cable</td>\n",
       "      <td>2020-01-01 04:00</td>\n",
       "      <td>United Kingdom</td>\n",
       "    </tr>\n",
       "    <tr>\n",
       "      <th>...</th>\n",
       "      <td>...</td>\n",
       "      <td>...</td>\n",
       "      <td>...</td>\n",
       "      <td>...</td>\n",
       "    </tr>\n",
       "    <tr>\n",
       "      <th>26299</th>\n",
       "      <td>SKU_1501</td>\n",
       "      <td>White Mug</td>\n",
       "      <td>2022-12-31 19:00</td>\n",
       "      <td>Italy</td>\n",
       "    </tr>\n",
       "    <tr>\n",
       "      <th>26300</th>\n",
       "      <td>SKU_1224</td>\n",
       "      <td>Desk Lamp</td>\n",
       "      <td>2022-12-31 20:00</td>\n",
       "      <td>Portugal</td>\n",
       "    </tr>\n",
       "    <tr>\n",
       "      <th>26301</th>\n",
       "      <td>SKU_1613</td>\n",
       "      <td>Wall Clock</td>\n",
       "      <td>2022-12-31 21:00</td>\n",
       "      <td>United States</td>\n",
       "    </tr>\n",
       "    <tr>\n",
       "      <th>26302</th>\n",
       "      <td>SKU_1098</td>\n",
       "      <td>Wireless Mouse</td>\n",
       "      <td>2022-12-31 22:00</td>\n",
       "      <td>Norway</td>\n",
       "    </tr>\n",
       "    <tr>\n",
       "      <th>26303</th>\n",
       "      <td>SKU_1306</td>\n",
       "      <td>Desk Lamp</td>\n",
       "      <td>2022-12-31 23:00</td>\n",
       "      <td>Spain</td>\n",
       "    </tr>\n",
       "  </tbody>\n",
       "</table>\n",
       "<p>26304 rows × 4 columns</p>\n",
       "</div>"
      ],
      "text/plain": [
       "      StockCode     Description       InvoiceDate         Country\n",
       "0      SKU_1964       White Mug  2020-01-01 00:00       Australia\n",
       "1      SKU_1241       White Mug  2020-01-01 01:00           Spain\n",
       "2      SKU_1501      Headphones  2020-01-01 02:00         Germany\n",
       "3      SKU_1760       Desk Lamp  2020-01-01 03:00     Netherlands\n",
       "4      SKU_1386       USB Cable  2020-01-01 04:00  United Kingdom\n",
       "...         ...             ...               ...             ...\n",
       "26299  SKU_1501       White Mug  2022-12-31 19:00           Italy\n",
       "26300  SKU_1224       Desk Lamp  2022-12-31 20:00        Portugal\n",
       "26301  SKU_1613      Wall Clock  2022-12-31 21:00   United States\n",
       "26302  SKU_1098  Wireless Mouse  2022-12-31 22:00          Norway\n",
       "26303  SKU_1306       Desk Lamp  2022-12-31 23:00           Spain\n",
       "\n",
       "[26304 rows x 4 columns]"
      ]
     },
     "execution_count": 59,
     "metadata": {},
     "output_type": "execute_result"
    }
   ],
   "source": [
    "df.select_dtypes(include='object') #solo texto o numerico o fecha\n",
    "#df.select_dtypes(include='datetime') #solo fecha\n",
    "#df.select_dtypes(include='number') #solo numerico"
   ]
  },
  {
   "cell_type": "markdown",
   "metadata": {},
   "source": [
    "* isnull()\n",
    "\n",
    "-- Muestra cantidad de nulos"
   ]
  },
  {
   "cell_type": "code",
   "execution_count": 60,
   "metadata": {},
   "outputs": [
    {
     "data": {
      "text/html": [
       "<div>\n",
       "<style scoped>\n",
       "    .dataframe tbody tr th:only-of-type {\n",
       "        vertical-align: middle;\n",
       "    }\n",
       "\n",
       "    .dataframe tbody tr th {\n",
       "        vertical-align: top;\n",
       "    }\n",
       "\n",
       "    .dataframe thead th {\n",
       "        text-align: right;\n",
       "    }\n",
       "</style>\n",
       "<table border=\"1\" class=\"dataframe\">\n",
       "  <thead>\n",
       "    <tr style=\"text-align: right;\">\n",
       "      <th></th>\n",
       "      <th>InvoiceNo</th>\n",
       "      <th>StockCode</th>\n",
       "      <th>Description</th>\n",
       "      <th>Quantity</th>\n",
       "      <th>InvoiceDate</th>\n",
       "      <th>UnitPrice</th>\n",
       "      <th>CustomerID</th>\n",
       "      <th>Country</th>\n",
       "      <th>Discount</th>\n",
       "    </tr>\n",
       "  </thead>\n",
       "  <tbody>\n",
       "    <tr>\n",
       "      <th>0</th>\n",
       "      <td>False</td>\n",
       "      <td>False</td>\n",
       "      <td>False</td>\n",
       "      <td>False</td>\n",
       "      <td>False</td>\n",
       "      <td>False</td>\n",
       "      <td>False</td>\n",
       "      <td>False</td>\n",
       "      <td>False</td>\n",
       "    </tr>\n",
       "    <tr>\n",
       "      <th>1</th>\n",
       "      <td>False</td>\n",
       "      <td>False</td>\n",
       "      <td>False</td>\n",
       "      <td>False</td>\n",
       "      <td>False</td>\n",
       "      <td>False</td>\n",
       "      <td>False</td>\n",
       "      <td>False</td>\n",
       "      <td>False</td>\n",
       "    </tr>\n",
       "    <tr>\n",
       "      <th>2</th>\n",
       "      <td>False</td>\n",
       "      <td>False</td>\n",
       "      <td>False</td>\n",
       "      <td>False</td>\n",
       "      <td>False</td>\n",
       "      <td>False</td>\n",
       "      <td>False</td>\n",
       "      <td>False</td>\n",
       "      <td>False</td>\n",
       "    </tr>\n",
       "    <tr>\n",
       "      <th>3</th>\n",
       "      <td>False</td>\n",
       "      <td>False</td>\n",
       "      <td>False</td>\n",
       "      <td>False</td>\n",
       "      <td>False</td>\n",
       "      <td>False</td>\n",
       "      <td>False</td>\n",
       "      <td>False</td>\n",
       "      <td>False</td>\n",
       "    </tr>\n",
       "    <tr>\n",
       "      <th>4</th>\n",
       "      <td>False</td>\n",
       "      <td>False</td>\n",
       "      <td>False</td>\n",
       "      <td>False</td>\n",
       "      <td>False</td>\n",
       "      <td>False</td>\n",
       "      <td>True</td>\n",
       "      <td>False</td>\n",
       "      <td>False</td>\n",
       "    </tr>\n",
       "    <tr>\n",
       "      <th>...</th>\n",
       "      <td>...</td>\n",
       "      <td>...</td>\n",
       "      <td>...</td>\n",
       "      <td>...</td>\n",
       "      <td>...</td>\n",
       "      <td>...</td>\n",
       "      <td>...</td>\n",
       "      <td>...</td>\n",
       "      <td>...</td>\n",
       "    </tr>\n",
       "    <tr>\n",
       "      <th>26299</th>\n",
       "      <td>False</td>\n",
       "      <td>False</td>\n",
       "      <td>False</td>\n",
       "      <td>False</td>\n",
       "      <td>False</td>\n",
       "      <td>False</td>\n",
       "      <td>False</td>\n",
       "      <td>False</td>\n",
       "      <td>False</td>\n",
       "    </tr>\n",
       "    <tr>\n",
       "      <th>26300</th>\n",
       "      <td>False</td>\n",
       "      <td>False</td>\n",
       "      <td>False</td>\n",
       "      <td>False</td>\n",
       "      <td>False</td>\n",
       "      <td>False</td>\n",
       "      <td>False</td>\n",
       "      <td>False</td>\n",
       "      <td>False</td>\n",
       "    </tr>\n",
       "    <tr>\n",
       "      <th>26301</th>\n",
       "      <td>False</td>\n",
       "      <td>False</td>\n",
       "      <td>False</td>\n",
       "      <td>False</td>\n",
       "      <td>False</td>\n",
       "      <td>False</td>\n",
       "      <td>False</td>\n",
       "      <td>False</td>\n",
       "      <td>False</td>\n",
       "    </tr>\n",
       "    <tr>\n",
       "      <th>26302</th>\n",
       "      <td>False</td>\n",
       "      <td>False</td>\n",
       "      <td>False</td>\n",
       "      <td>False</td>\n",
       "      <td>False</td>\n",
       "      <td>False</td>\n",
       "      <td>True</td>\n",
       "      <td>False</td>\n",
       "      <td>False</td>\n",
       "    </tr>\n",
       "    <tr>\n",
       "      <th>26303</th>\n",
       "      <td>False</td>\n",
       "      <td>False</td>\n",
       "      <td>False</td>\n",
       "      <td>False</td>\n",
       "      <td>False</td>\n",
       "      <td>False</td>\n",
       "      <td>True</td>\n",
       "      <td>False</td>\n",
       "      <td>False</td>\n",
       "    </tr>\n",
       "  </tbody>\n",
       "</table>\n",
       "<p>26304 rows × 9 columns</p>\n",
       "</div>"
      ],
      "text/plain": [
       "       InvoiceNo  StockCode  Description  Quantity  InvoiceDate  UnitPrice  \\\n",
       "0          False      False        False     False        False      False   \n",
       "1          False      False        False     False        False      False   \n",
       "2          False      False        False     False        False      False   \n",
       "3          False      False        False     False        False      False   \n",
       "4          False      False        False     False        False      False   \n",
       "...          ...        ...          ...       ...          ...        ...   \n",
       "26299      False      False        False     False        False      False   \n",
       "26300      False      False        False     False        False      False   \n",
       "26301      False      False        False     False        False      False   \n",
       "26302      False      False        False     False        False      False   \n",
       "26303      False      False        False     False        False      False   \n",
       "\n",
       "       CustomerID  Country  Discount  \n",
       "0           False    False     False  \n",
       "1           False    False     False  \n",
       "2           False    False     False  \n",
       "3           False    False     False  \n",
       "4            True    False     False  \n",
       "...           ...      ...       ...  \n",
       "26299       False    False     False  \n",
       "26300       False    False     False  \n",
       "26301       False    False     False  \n",
       "26302        True    False     False  \n",
       "26303        True    False     False  \n",
       "\n",
       "[26304 rows x 9 columns]"
      ]
     },
     "execution_count": 60,
     "metadata": {},
     "output_type": "execute_result"
    }
   ],
   "source": [
    "df.isnull()\n"
   ]
  },
  {
   "cell_type": "code",
   "execution_count": 61,
   "metadata": {},
   "outputs": [
    {
     "data": {
      "text/plain": [
       "InvoiceNo         0\n",
       "StockCode         0\n",
       "Description       0\n",
       "Quantity          0\n",
       "InvoiceDate       0\n",
       "UnitPrice         0\n",
       "CustomerID     2551\n",
       "Country           0\n",
       "Discount          0\n",
       "dtype: int64"
      ]
     },
     "execution_count": 61,
     "metadata": {},
     "output_type": "execute_result"
    }
   ],
   "source": [
    "df.isnull().sum() #cuenta los nulos por columna"
   ]
  },
  {
   "cell_type": "code",
   "execution_count": 63,
   "metadata": {},
   "outputs": [
    {
     "name": "stdout",
     "output_type": "stream",
     "text": [
      "En nuestro DF tenemos 2551 nulos totales\n"
     ]
    }
   ],
   "source": [
    "df.isnull().sum().sum() #cuenta los nulos totales\n",
    "print(f'En nuestro DF tenemos {df.isnull().sum().sum()} nulos totales')"
   ]
  },
  {
   "cell_type": "markdown",
   "metadata": {},
   "source": [
    "* df.duplicated()\n",
    "\n",
    "-- Muesta cantidad de valores duplicados, similar al anterior más útil con sum()"
   ]
  },
  {
   "cell_type": "code",
   "execution_count": 65,
   "metadata": {},
   "outputs": [
    {
     "name": "stdout",
     "output_type": "stream",
     "text": [
      "En nuestro DF tenemos 0 duplicados totales\n"
     ]
    }
   ],
   "source": [
    "df.duplicated().sum() #cuenta los duplicados por fila\n",
    "print(f'En nuestro DF tenemos {df.duplicated().sum()} duplicados totales')"
   ]
  },
  {
   "cell_type": "markdown",
   "metadata": {},
   "source": [
    "* describe()\n",
    "\n",
    "-- Muestra estadisticas principales de las columnas numericas, calcula conteo valores, mediana, desv std, cuartiles, max."
   ]
  },
  {
   "cell_type": "code",
   "execution_count": 66,
   "metadata": {},
   "outputs": [
    {
     "data": {
      "text/html": [
       "<div>\n",
       "<style scoped>\n",
       "    .dataframe tbody tr th:only-of-type {\n",
       "        vertical-align: middle;\n",
       "    }\n",
       "\n",
       "    .dataframe tbody tr th {\n",
       "        vertical-align: top;\n",
       "    }\n",
       "\n",
       "    .dataframe thead th {\n",
       "        text-align: right;\n",
       "    }\n",
       "</style>\n",
       "<table border=\"1\" class=\"dataframe\">\n",
       "  <thead>\n",
       "    <tr style=\"text-align: right;\">\n",
       "      <th></th>\n",
       "      <th>InvoiceNo</th>\n",
       "      <th>Quantity</th>\n",
       "      <th>UnitPrice</th>\n",
       "      <th>CustomerID</th>\n",
       "      <th>Discount</th>\n",
       "    </tr>\n",
       "  </thead>\n",
       "  <tbody>\n",
       "    <tr>\n",
       "      <th>count</th>\n",
       "      <td>26304.000000</td>\n",
       "      <td>26304.000000</td>\n",
       "      <td>26304.000000</td>\n",
       "      <td>23753.000000</td>\n",
       "      <td>26304.000000</td>\n",
       "    </tr>\n",
       "    <tr>\n",
       "      <th>mean</th>\n",
       "      <td>552925.099719</td>\n",
       "      <td>22.541286</td>\n",
       "      <td>47.256332</td>\n",
       "      <td>54917.302530</td>\n",
       "      <td>0.275328</td>\n",
       "    </tr>\n",
       "    <tr>\n",
       "      <th>std</th>\n",
       "      <td>259756.484885</td>\n",
       "      <td>17.744803</td>\n",
       "      <td>33.307590</td>\n",
       "      <td>25995.956967</td>\n",
       "      <td>0.228697</td>\n",
       "    </tr>\n",
       "    <tr>\n",
       "      <th>min</th>\n",
       "      <td>100005.000000</td>\n",
       "      <td>-50.000000</td>\n",
       "      <td>-99.860000</td>\n",
       "      <td>10003.000000</td>\n",
       "      <td>0.000000</td>\n",
       "    </tr>\n",
       "    <tr>\n",
       "      <th>25%</th>\n",
       "      <td>328855.500000</td>\n",
       "      <td>11.000000</td>\n",
       "      <td>23.430000</td>\n",
       "      <td>32469.000000</td>\n",
       "      <td>0.130000</td>\n",
       "    </tr>\n",
       "    <tr>\n",
       "      <th>50%</th>\n",
       "      <td>554916.000000</td>\n",
       "      <td>23.000000</td>\n",
       "      <td>48.370000</td>\n",
       "      <td>55085.000000</td>\n",
       "      <td>0.260000</td>\n",
       "    </tr>\n",
       "    <tr>\n",
       "      <th>75%</th>\n",
       "      <td>777752.750000</td>\n",
       "      <td>37.000000</td>\n",
       "      <td>74.200000</td>\n",
       "      <td>77326.000000</td>\n",
       "      <td>0.380000</td>\n",
       "    </tr>\n",
       "    <tr>\n",
       "      <th>max</th>\n",
       "      <td>999993.000000</td>\n",
       "      <td>49.000000</td>\n",
       "      <td>99.990000</td>\n",
       "      <td>99998.000000</td>\n",
       "      <td>1.998946</td>\n",
       "    </tr>\n",
       "  </tbody>\n",
       "</table>\n",
       "</div>"
      ],
      "text/plain": [
       "           InvoiceNo      Quantity     UnitPrice    CustomerID      Discount\n",
       "count   26304.000000  26304.000000  26304.000000  23753.000000  26304.000000\n",
       "mean   552925.099719     22.541286     47.256332  54917.302530      0.275328\n",
       "std    259756.484885     17.744803     33.307590  25995.956967      0.228697\n",
       "min    100005.000000    -50.000000    -99.860000  10003.000000      0.000000\n",
       "25%    328855.500000     11.000000     23.430000  32469.000000      0.130000\n",
       "50%    554916.000000     23.000000     48.370000  55085.000000      0.260000\n",
       "75%    777752.750000     37.000000     74.200000  77326.000000      0.380000\n",
       "max    999993.000000     49.000000     99.990000  99998.000000      1.998946"
      ]
     },
     "execution_count": 66,
     "metadata": {},
     "output_type": "execute_result"
    }
   ],
   "source": [
    "df.describe()"
   ]
  },
  {
   "cell_type": "code",
   "execution_count": null,
   "metadata": {},
   "outputs": [
    {
     "data": {
      "text/html": [
       "<div>\n",
       "<style scoped>\n",
       "    .dataframe tbody tr th:only-of-type {\n",
       "        vertical-align: middle;\n",
       "    }\n",
       "\n",
       "    .dataframe tbody tr th {\n",
       "        vertical-align: top;\n",
       "    }\n",
       "\n",
       "    .dataframe thead th {\n",
       "        text-align: right;\n",
       "    }\n",
       "</style>\n",
       "<table border=\"1\" class=\"dataframe\">\n",
       "  <thead>\n",
       "    <tr style=\"text-align: right;\">\n",
       "      <th></th>\n",
       "      <th>StockCode</th>\n",
       "      <th>Description</th>\n",
       "      <th>InvoiceDate</th>\n",
       "      <th>Country</th>\n",
       "    </tr>\n",
       "  </thead>\n",
       "  <tbody>\n",
       "    <tr>\n",
       "      <th>count</th>\n",
       "      <td>26304</td>\n",
       "      <td>26304</td>\n",
       "      <td>26304</td>\n",
       "      <td>26304</td>\n",
       "    </tr>\n",
       "    <tr>\n",
       "      <th>unique</th>\n",
       "      <td>1000</td>\n",
       "      <td>11</td>\n",
       "      <td>26304</td>\n",
       "      <td>12</td>\n",
       "    </tr>\n",
       "    <tr>\n",
       "      <th>top</th>\n",
       "      <td>SKU_1944</td>\n",
       "      <td>Wall Clock</td>\n",
       "      <td>2020-01-01 00:00</td>\n",
       "      <td>France</td>\n",
       "    </tr>\n",
       "    <tr>\n",
       "      <th>freq</th>\n",
       "      <td>43</td>\n",
       "      <td>2467</td>\n",
       "      <td>1</td>\n",
       "      <td>2270</td>\n",
       "    </tr>\n",
       "  </tbody>\n",
       "</table>\n",
       "</div>"
      ],
      "text/plain": [
       "       StockCode Description       InvoiceDate Country\n",
       "count      26304       26304             26304   26304\n",
       "unique      1000          11             26304      12\n",
       "top     SKU_1944  Wall Clock  2020-01-01 00:00  France\n",
       "freq          43        2467                 1    2270"
      ]
     },
     "execution_count": 67,
     "metadata": {},
     "output_type": "execute_result"
    }
   ],
   "source": [
    "df.describe(include='object') #calcula lo que puede para texto"
   ]
  },
  {
   "cell_type": "markdown",
   "metadata": {},
   "source": [
    "* unique()\n",
    "\n",
    "-- Muestra valores únicos de una columna"
   ]
  },
  {
   "cell_type": "code",
   "execution_count": 69,
   "metadata": {},
   "outputs": [
    {
     "name": "stdout",
     "output_type": "stream",
     "text": [
      "Australia\n",
      "Spain\n",
      "Germany\n",
      "Netherlands\n",
      "United Kingdom\n",
      "Sweden\n",
      "Belgium\n",
      "Norway\n",
      "Italy\n",
      "Portugal\n",
      "France\n",
      "United States\n"
     ]
    }
   ],
   "source": [
    "df['Country'].unique() #muestra los paises que tengo\n",
    "#iterar por los paises\n",
    "for pais in df['Country'].unique():\n",
    "    print(pais)"
   ]
  },
  {
   "cell_type": "markdown",
   "metadata": {},
   "source": [
    "* value_counts()\n",
    "\n",
    "#Muestra valores únicos con la frecuencia"
   ]
  },
  {
   "cell_type": "code",
   "execution_count": 70,
   "metadata": {},
   "outputs": [
    {
     "data": {
      "text/plain": [
       "Country\n",
       "France            2270\n",
       "Sweden            2233\n",
       "Netherlands       2223\n",
       "United Kingdom    2216\n",
       "Germany           2214\n",
       "                  ... \n",
       "Italy             2171\n",
       "United States     2155\n",
       "Spain             2147\n",
       "Norway            2146\n",
       "Belgium           2141\n",
       "Name: count, Length: 12, dtype: int64"
      ]
     },
     "execution_count": 70,
     "metadata": {},
     "output_type": "execute_result"
    }
   ],
   "source": [
    "df['Country'].value_counts() #cuenta los paises y los muestra por orden de cantidad"
   ]
  }
 ],
 "metadata": {
  "colab": {
   "authorship_tag": "ABX9TyOLU1bvZ+xvU1WUyNto7jMP",
   "provenance": []
  },
  "kernelspec": {
   "display_name": "Python 3",
   "name": "python3"
  },
  "language_info": {
   "codemirror_mode": {
    "name": "ipython",
    "version": 3
   },
   "file_extension": ".py",
   "mimetype": "text/x-python",
   "name": "python",
   "nbconvert_exporter": "python",
   "pygments_lexer": "ipython3",
   "version": "3.12.1"
  }
 },
 "nbformat": 4,
 "nbformat_minor": 0
}
