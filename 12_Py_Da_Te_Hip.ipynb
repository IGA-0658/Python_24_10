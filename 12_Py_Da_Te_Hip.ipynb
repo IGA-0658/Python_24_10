{
 "cells": [
  {
   "cell_type": "markdown",
   "id": "dd4a83de",
   "metadata": {},
   "source": [
    "# Testeo de hipótesis\n",
    "\n",
    "- Estadistica Inferencial\n",
    "- Población Vs Muestra\n",
    "- Testeo de Hipótesis \n",
    "    - P-value \n",
    "    - Tipos de pruebas estadísticas: paramétricas no paramétricas\n"
   ]
  },
  {
   "cell_type": "code",
   "execution_count": 1,
   "id": "a73eac96",
   "metadata": {},
   "outputs": [],
   "source": [
    "#Importaciones\n",
    "#Tratamineto de datos\n",
    "import pandas as pd\n",
    "import numpy as np\n",
    "#Visualización de datos\n",
    "import matplotlib.pyplot as plt\n",
    "import seaborn as sns\n",
    "#Pruebas estadísticas\n",
    "import scipy.stats as stats"
   ]
  },
  {
   "cell_type": "code",
   "execution_count": 2,
   "id": "8c5c9d52",
   "metadata": {},
   "outputs": [],
   "source": [
    "#Leer el archivo CSV (simimar a \"datos_ventas_mes.csv pero ampliado\")\n",
    "df = pd.read_csv('data/datos_seguros_medicos.csv')"
   ]
  },
  {
   "cell_type": "code",
   "execution_count": 3,
   "id": "df9343ec",
   "metadata": {},
   "outputs": [
    {
     "data": {
      "text/html": [
       "<div>\n",
       "<style scoped>\n",
       "    .dataframe tbody tr th:only-of-type {\n",
       "        vertical-align: middle;\n",
       "    }\n",
       "\n",
       "    .dataframe tbody tr th {\n",
       "        vertical-align: top;\n",
       "    }\n",
       "\n",
       "    .dataframe thead th {\n",
       "        text-align: right;\n",
       "    }\n",
       "</style>\n",
       "<table border=\"1\" class=\"dataframe\">\n",
       "  <thead>\n",
       "    <tr style=\"text-align: right;\">\n",
       "      <th></th>\n",
       "      <th>fecha</th>\n",
       "      <th>producto</th>\n",
       "      <th>precio</th>\n",
       "      <th>cantidad</th>\n",
       "      <th>region</th>\n",
       "      <th>id_vendedor</th>\n",
       "    </tr>\n",
       "  </thead>\n",
       "  <tbody>\n",
       "    <tr>\n",
       "      <th>0</th>\n",
       "      <td>2024-08-10 16:58:11.991336</td>\n",
       "      <td>Producto C</td>\n",
       "      <td>65.655240</td>\n",
       "      <td>17</td>\n",
       "      <td>Oeste</td>\n",
       "      <td>64</td>\n",
       "    </tr>\n",
       "    <tr>\n",
       "      <th>1</th>\n",
       "      <td>2023-12-08 16:58:11.991383</td>\n",
       "      <td>Producto C</td>\n",
       "      <td>49.342497</td>\n",
       "      <td>3</td>\n",
       "      <td>Oeste</td>\n",
       "      <td>61</td>\n",
       "    </tr>\n",
       "    <tr>\n",
       "      <th>2</th>\n",
       "      <td>2024-02-24 16:58:11.991391</td>\n",
       "      <td>Producto A</td>\n",
       "      <td>44.448005</td>\n",
       "      <td>18</td>\n",
       "      <td>Norte</td>\n",
       "      <td>54</td>\n",
       "    </tr>\n",
       "    <tr>\n",
       "      <th>3</th>\n",
       "      <td>2024-08-06 16:58:11.991395</td>\n",
       "      <td>Producto B</td>\n",
       "      <td>68.811571</td>\n",
       "      <td>8</td>\n",
       "      <td>Este</td>\n",
       "      <td>92</td>\n",
       "    </tr>\n",
       "    <tr>\n",
       "      <th>4</th>\n",
       "      <td>2024-09-10 16:58:11.991399</td>\n",
       "      <td>Producto B</td>\n",
       "      <td>35.519861</td>\n",
       "      <td>19</td>\n",
       "      <td>Sur</td>\n",
       "      <td>94</td>\n",
       "    </tr>\n",
       "  </tbody>\n",
       "</table>\n",
       "</div>"
      ],
      "text/plain": [
       "                        fecha    producto     precio  cantidad region  \\\n",
       "0  2024-08-10 16:58:11.991336  Producto C  65.655240        17  Oeste   \n",
       "1  2023-12-08 16:58:11.991383  Producto C  49.342497         3  Oeste   \n",
       "2  2024-02-24 16:58:11.991391  Producto A  44.448005        18  Norte   \n",
       "3  2024-08-06 16:58:11.991395  Producto B  68.811571         8   Este   \n",
       "4  2024-09-10 16:58:11.991399  Producto B  35.519861        19    Sur   \n",
       "\n",
       "   id_vendedor  \n",
       "0           64  \n",
       "1           61  \n",
       "2           54  \n",
       "3           92  \n",
       "4           94  "
      ]
     },
     "execution_count": 3,
     "metadata": {},
     "output_type": "execute_result"
    }
   ],
   "source": [
    "df.head()"
   ]
  },
  {
   "cell_type": "code",
   "execution_count": 4,
   "id": "8e3d8f53",
   "metadata": {},
   "outputs": [
    {
     "name": "stdout",
     "output_type": "stream",
     "text": [
      "<class 'pandas.core.frame.DataFrame'>\n",
      "RangeIndex: 1000 entries, 0 to 999\n",
      "Data columns (total 6 columns):\n",
      " #   Column       Non-Null Count  Dtype  \n",
      "---  ------       --------------  -----  \n",
      " 0   fecha        1000 non-null   object \n",
      " 1   producto     1000 non-null   object \n",
      " 2   precio       1000 non-null   float64\n",
      " 3   cantidad     1000 non-null   int64  \n",
      " 4   region       1000 non-null   object \n",
      " 5   id_vendedor  1000 non-null   int64  \n",
      "dtypes: float64(1), int64(2), object(3)\n",
      "memory usage: 47.0+ KB\n"
     ]
    }
   ],
   "source": [
    "df.info()"
   ]
  },
  {
   "cell_type": "code",
   "execution_count": 5,
   "id": "d8766b76",
   "metadata": {},
   "outputs": [
    {
     "data": {
      "text/html": [
       "<div>\n",
       "<style scoped>\n",
       "    .dataframe tbody tr th:only-of-type {\n",
       "        vertical-align: middle;\n",
       "    }\n",
       "\n",
       "    .dataframe tbody tr th {\n",
       "        vertical-align: top;\n",
       "    }\n",
       "\n",
       "    .dataframe thead th {\n",
       "        text-align: right;\n",
       "    }\n",
       "</style>\n",
       "<table border=\"1\" class=\"dataframe\">\n",
       "  <thead>\n",
       "    <tr style=\"text-align: right;\">\n",
       "      <th></th>\n",
       "      <th>count</th>\n",
       "      <th>mean</th>\n",
       "      <th>std</th>\n",
       "      <th>min</th>\n",
       "      <th>25%</th>\n",
       "      <th>50%</th>\n",
       "      <th>75%</th>\n",
       "      <th>max</th>\n",
       "    </tr>\n",
       "  </thead>\n",
       "  <tbody>\n",
       "    <tr>\n",
       "      <th>precio</th>\n",
       "      <td>1000.0</td>\n",
       "      <td>50.552898</td>\n",
       "      <td>9.994023</td>\n",
       "      <td>20.786495</td>\n",
       "      <td>43.847361</td>\n",
       "      <td>50.392976</td>\n",
       "      <td>57.118272</td>\n",
       "      <td>81.931076</td>\n",
       "    </tr>\n",
       "    <tr>\n",
       "      <th>cantidad</th>\n",
       "      <td>1000.0</td>\n",
       "      <td>10.178000</td>\n",
       "      <td>5.559607</td>\n",
       "      <td>1.000000</td>\n",
       "      <td>5.000000</td>\n",
       "      <td>10.000000</td>\n",
       "      <td>15.000000</td>\n",
       "      <td>19.000000</td>\n",
       "    </tr>\n",
       "    <tr>\n",
       "      <th>id_vendedor</th>\n",
       "      <td>1000.0</td>\n",
       "      <td>49.597000</td>\n",
       "      <td>28.529748</td>\n",
       "      <td>1.000000</td>\n",
       "      <td>25.000000</td>\n",
       "      <td>48.000000</td>\n",
       "      <td>74.250000</td>\n",
       "      <td>100.000000</td>\n",
       "    </tr>\n",
       "  </tbody>\n",
       "</table>\n",
       "</div>"
      ],
      "text/plain": [
       "              count       mean        std        min        25%        50%  \\\n",
       "precio       1000.0  50.552898   9.994023  20.786495  43.847361  50.392976   \n",
       "cantidad     1000.0  10.178000   5.559607   1.000000   5.000000  10.000000   \n",
       "id_vendedor  1000.0  49.597000  28.529748   1.000000  25.000000  48.000000   \n",
       "\n",
       "                   75%         max  \n",
       "precio       57.118272   81.931076  \n",
       "cantidad     15.000000   19.000000  \n",
       "id_vendedor  74.250000  100.000000  "
      ]
     },
     "execution_count": 5,
     "metadata": {},
     "output_type": "execute_result"
    }
   ],
   "source": [
    "df.describe().T"
   ]
  },
  {
   "cell_type": "markdown",
   "id": "7314aba7",
   "metadata": {},
   "source": [
    "### Formulación de hipótesis (algo que planteo)\n",
    "- Formulación Hiótesis, ej: Nos dicen que el precio medio de nuestros productos es 55.\n",
    "- Hipótesis Nula (H0): La hip. inicial, de la que partimos (pr medio 55).\n",
    "- Hipótesis Alternativa (H1): El precio medio de los prod. no es 55 (es menor o mayor que 55).\n",
    "- Nivel de significancia, cuanta prob máx acepto al rechazar una hipótesis siendo verdadera.\n",
    "- Elegir mi prueba estadística: t-student\n"
   ]
  },
  {
   "cell_type": "code",
   "execution_count": 6,
   "id": "91c9b5c5",
   "metadata": {},
   "outputs": [
    {
     "name": "stdout",
     "output_type": "stream",
     "text": [
      "Intervalo de confianza del 95% para la media del precio:\n",
      " IC inferior: 49.932722010034496\n",
      " IC superior: 51.17307396755817\n"
     ]
    }
   ],
   "source": [
    "#Intervalos de confianza. IC\n",
    "precio = df['precio']\n",
    "\n",
    "#Calcular la media de la muestra\n",
    "media_precio = np.mean(precio)\n",
    "\n",
    "#Desviación estándar de la muestra\n",
    "desviacion_precio = np.std(precio, ddof=1)  # ddof=1 grados de libertad, elegimos 1 porque queremos la desviación muestral\n",
    "\n",
    "#Tamaño de la muestra\n",
    "n_precio = len(precio)\n",
    "\n",
    "#Nivel de confianza-- 95% α= 0.05\n",
    "alpha = 0.05\n",
    "#Grados de libertad para la distribución de la t-student\n",
    "n_precio_t = n_precio - 1\n",
    "\n",
    "#Valor crítico t para un nivel de confianza del 95%\n",
    "t_critico = stats.t.ppf(1 - alpha / 2, n_precio_t)\n",
    "\n",
    "#Error estándar de la media\n",
    "error_estandar = desviacion_precio / np.sqrt(n_precio)\n",
    "\n",
    "#Intervalo de confianza\n",
    "ic_inferior = media_precio - t_critico * error_estandar\n",
    "ic_superior = media_precio + t_critico * error_estandar\n",
    "print(f\"Intervalo de confianza del 95% para la media del precio:\\n IC inferior: {ic_inferior}\\n IC superior: {ic_superior}\")"
   ]
  },
  {
   "cell_type": "code",
   "execution_count": null,
   "id": "d33a5761",
   "metadata": {},
   "outputs": [],
   "source": [
    "#Formulación de hipótesis (algo que planteo)\n",
    "#- Formulación Hiótesis, ej: Nos dicen que el precio medio de nuestros productos es 55.\n",
    "#- Hipótesis Nula (H0): La hip. inicial, de la que partimos (pr medio 55).\n",
    "#- Hipótesis Alternativa (H1): El precio medio de los prod. no es 55 (es menor o mayor que 55).\n",
    "#- Nivel de significancia, cuanta prob máx acepto al rechazar una hipótesis siendo verdadera.\n",
    "nivel_significancia = 0.05\n",
    "#- Elegir mi prueba estadística: t-student\n",
    "t_stat, p_value = stats.ttest_1samp(df[\"precio\"], 55)\n",
    "print(t_stat)\n",
    "print(p_value)\n",
    "\n",
    "if p_value < nivel_significancia:\n",
    "    print(\"Rechazamos la hipótesis nula, el precio promedio es diferente de 55\")\n",
    "else:\n",
    "    print(\"No tenemos evidencia suficiene para decir que la media del precio sea distinta de 55\")"
   ]
  },
  {
   "cell_type": "markdown",
   "id": "d9c4742e",
   "metadata": {},
   "source": [
    "* ### Prueba de Hipotesis, P_Value, T-student"
   ]
  },
  {
   "cell_type": "code",
   "execution_count": 7,
   "id": "a0993329",
   "metadata": {},
   "outputs": [
    {
     "name": "stdout",
     "output_type": "stream",
     "text": [
      "-14.07138128099968\n",
      "3.671532210465493e-41\n",
      "Rechazamos la hipótesis nula, el precio promedio es diferente de 55\n"
     ]
    }
   ],
   "source": [
    "#Formulación de hipótesis sobre la columna cantidad\n",
    "#- Formulación Hiótesis nula y la alternativa para la prueba de T-student\n",
    "#- Hipótesis Nula (H0): la mediana de la cantidad es 10.\n",
    "#- Hipótesis Alternativa (H1): la mediana de la cantidad no es 10.\n",
    "#- Realizar la prueba de Wilcoxon para la variable 'cantidad'\n",
    "t_stat, p_value_cantidad = stats.ttest_1samp(df[\"cantidad\"], 10)\n",
    "#- Imprimir resultados de la prueba de Wilcoxon\n",
    "print(\"\\nRest de hipótesis para 'cantidad' (Prueba de T-student):\")\n",
    "print(f\"Estadístico t: {t_stat}\")\n",
    "print(f\"p-valor: {p_value_cantidad}\")\n",
    "      \n",
    "#- Interpretación de los resultados\n",
    "if p_value_cantidad < 0.05:\n",
    "    print(\"Rechazamos la hipótesis nula, la media de la cantidad no es 10.\")\n",
    "else:\n",
    "    print(\"No rechazamos la hipótesis nula, no hay evidencia suficiente para afirmar que la media de la cantidad es diferente de 10.\")"
   ]
  },
  {
   "cell_type": "markdown",
   "id": "3bf1e696",
   "metadata": {},
   "source": [
    "* ### Comprobación de normalidad, dos formas"
   ]
  },
  {
   "cell_type": "code",
   "execution_count": 8,
   "id": "e3e47bb0",
   "metadata": {},
   "outputs": [
    {
     "data": {
      "image/png": "[encoded data removed]",
      "text/plain": [
       "<Figure size 1000x500 with 1 Axes>"
      ]
     },
     "metadata": {},
     "output_type": "display_data"
    }
   ],
   "source": [
    "plt.figure(figsize=(10, 5))\n",
    "sns.histplot(data=df[\"precio\"], \n",
    "             kde=True, \n",
    "             color='blue', \n",
    "             bins=30)\n",
    "plt.title('Distribución del Precio')\n",
    "plt.xlabel('Precio')\n",
    "plt.ylabel('Frecuencia');"
   ]
  },
  {
   "cell_type": "markdown",
   "id": "8f9f85c3",
   "metadata": {},
   "source": [
    "* ### Precio"
   ]
  },
  {
   "cell_type": "code",
   "execution_count": 9,
   "id": "a48b778b",
   "metadata": {},
   "outputs": [
    {
     "name": "stdout",
     "output_type": "stream",
     "text": [
      "Prueba de normalidad para la columna 'precio':\n",
      "Estadístico de Shapiro-Wilk: 0.9986805306124569\n",
      " p-valor: 0.6754264715513754\n",
      "Los datos de 'precio' son normales\n"
     ]
    }
   ],
   "source": [
    "# Acercamiento con una prueba estadística de normalidad\n",
    "# Planteamiento de hipótesis:\n",
    "# H0 = La muestra sigue una distribución normal\n",
    "# H1 = La muestra no sigue una distribución normal\n",
    "nivel_significancia = 0.05\n",
    "stat, p_value = stats.shapiro(df[\"precio\"])\n",
    "print(f\"Prueba de normalidad para la columna 'precio':\")\n",
    "print(f\"Estadístico de Shapiro-Wilk: {stat}\\n p-valor: {p_value}\")\n",
    "\n",
    "if p_value > nivel_significancia:\n",
    "    print(\"Los datos de 'precio' son normales\")\n",
    "else:\n",
    "    print(\"\\nLos datos de 'precio' no son normales\")"
   ]
  },
  {
   "cell_type": "markdown",
   "id": "605580f8",
   "metadata": {},
   "source": [
    "* ### Cantidad"
   ]
  },
  {
   "cell_type": "code",
   "execution_count": 11,
   "id": "e075db47",
   "metadata": {},
   "outputs": [
    {
     "data": {
      "image/png": "[encoded data removed]",
      "text/plain": [
       "<Figure size 1000x500 with 1 Axes>"
      ]
     },
     "metadata": {},
     "output_type": "display_data"
    }
   ],
   "source": [
    "plt.figure(figsize=(10, 5))\n",
    "sns.histplot(data=df[\"cantidad\"], \n",
    "             kde=True, \n",
    "             color='blue')\n",
    "plt.title('Distribución de la cantidad')\n",
    "plt.xlabel('Cantidad_vendida')\n",
    "plt.ylabel('Frecuencia');"
   ]
  },
  {
   "cell_type": "code",
   "execution_count": 12,
   "id": "5870e97d",
   "metadata": {},
   "outputs": [
    {
     "name": "stdout",
     "output_type": "stream",
     "text": [
      "\n",
      "Prueba de normalidad para la columna 'cantidad':\n",
      "Estadístico de Shapiro-Wilk: 0.9439132302588524, \n",
      "p-valor: 5.196272804060197e-19\n",
      "\n",
      "Los datos de 'cantidad' no son normales\n"
     ]
    }
   ],
   "source": [
    "# Acercamiento con una prueba estadística de normalidad\n",
    "# Planteamiento de hipótesis:\n",
    "# H0 = La muestra sigue una distribución normal\n",
    "# H1 = La muestra no sigue una distribución normal\n",
    "nivel_significancia = 0.05\n",
    "stat, p_value_cantidad = stats.shapiro(df[\"cantidad\"])\n",
    "print(f\"\\nPrueba de normalidad para la columna 'cantidad':\")\n",
    "print(f\"Estadístico de Shapiro-Wilk: {stat}, \\np-valor: {p_value_cantidad}\")\n",
    "\n",
    "if p_value_cantidad > nivel_significancia:\n",
    "    print(\"Los datos de 'cantidad' son normales\")\n",
    "else:\n",
    "    print(\"\\nLos datos de 'cantidad' no son normales\")"
   ]
  },
  {
   "cell_type": "code",
   "execution_count": 16,
   "id": "e639fb8d",
   "metadata": {},
   "outputs": [
    {
     "name": "stdout",
     "output_type": "stream",
     "text": [
      "\n",
      "Test de hipótesis para 'cantidad' (Prueba de Wilcoxon):\n",
      "Estadístico de Wilcoxon: 217060.0\n",
      "p-valor: 5.196272804060197e-19\n",
      "Rechazamos la hipótesis nula: La mediana de la cantidad no es igual a 10.\n"
     ]
    }
   ],
   "source": [
    "# Al no ser normales los datos, tenemos que elegir una prueba estadística distinta a la T-student\n",
    "#Definir la hipótesis nula y alternativa para la prueba de Wilcoxon\n",
    "#- Hipótesis Nula (H0): La mediana de la cantidad es 10.\n",
    "#- Hipótesis Alternativa (H1): La mediana de la cantidad no es 10.\n",
    "\n",
    "nivel_significancia = 0.05\n",
    "stat_wilcoxon, p_valor_wilcoxon = stats.wilcoxon(df[\"cantidad\"] - 10)\n",
    "# Imprimir resultados de la prueba de Wilcoxon\n",
    "print(f\"\\nTest de hipótesis para 'cantidad' (Prueba de Wilcoxon):\")\n",
    "print(f\"Estadístico de Wilcoxon: {stat_wilcoxon}\")\n",
    "print(f\"p-valor: {p_value_cantidad}\")\n",
    "\n",
    "# Interpretación de los resultados\n",
    "if p_value_cantidad < 0.05:\n",
    "    print(\"Rechazamos la hipótesis nula: La mediana de la cantidad no es igual a 10.\")\n",
    "else:\n",
    "    print(\"No rechazamos la hipótesis nula: No hay evidencia suficiente para afirmar que la mediana es 10.\")"
   ]
  }
 ],
 "metadata": {
  "kernelspec": {
   "display_name": "Python 3",
   "language": "python",
   "name": "python3"
  },
  "language_info": {
   "codemirror_mode": {
    "name": "ipython",
    "version": 3
   },
   "file_extension": ".py",
   "mimetype": "text/x-python",
   "name": "python",
   "nbconvert_exporter": "python",
   "pygments_lexer": "ipython3",
   "version": "3.12.1"
  }
 },
 "nbformat": 4,
 "nbformat_minor": 5
}
