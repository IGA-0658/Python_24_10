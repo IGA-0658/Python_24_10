{
 "cells": [
  {
   "cell_type": "markdown",
   "id": "0550402f",
   "metadata": {},
   "source": [
    "# A/B Testing\n",
    "\n",
    "- Estadistica Inferencial\n",
    "- Población Vs Muestra"
   ]
  },
  {
   "cell_type": "code",
   "execution_count": null,
   "id": "c73436c2",
   "metadata": {},
   "outputs": [],
   "source": []
  }
 ],
 "metadata": {
  "language_info": {
   "name": "python"
  }
 },
 "nbformat": 4,
 "nbformat_minor": 5
}
