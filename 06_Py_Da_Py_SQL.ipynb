{
 "cells": [
  {
   "cell_type": "markdown",
   "id": "f37dbb9c",
   "metadata": {},
   "source": [
    "# Python for data: Python & SQL\n",
    "\n",
    "* Realizar consultas SQL con python en una BD que tengamos.\n",
    "### ETL\n",
    "1- Extracción de Datos\n",
    "\n",
    "2- Transformación\n",
    "\n",
    "3- Carga a BD\n",
    "\n",
    "### EDA (Análisis exploratorio del dato)\n",
    "1- Descarga\n",
    "\n",
    "2- EDA"
   ]
  },
  {
   "cell_type": "code",
   "execution_count": null,
   "id": "e17226c1",
   "metadata": {},
   "outputs": [
    {
     "name": "stdout",
     "output_type": "stream",
     "text": [
      "Requirement already satisfied: psycopg2 in c:\\users\\nacho\\appdata\\local\\programs\\python\\python312\\lib\\site-packages (2.9.9)Note: you may need to restart the kernel to use updated packages.\n",
      "\n"
     ]
    }
   ],
   "source": [
    "#pip install psycopg2"
   ]
  },
  {
   "cell_type": "code",
   "execution_count": 44,
   "id": "a85c4974",
   "metadata": {},
   "outputs": [],
   "source": [
    "import psycopg2\n",
    "import pandas as pd"
   ]
  },
  {
   "cell_type": "code",
   "execution_count": null,
   "id": "2a36324b",
   "metadata": {},
   "outputs": [],
   "source": []
  },
  {
   "cell_type": "markdown",
   "id": "dbf091c4",
   "metadata": {},
   "source": [
    "* Conexion a BD Código:\n",
    "\n",
    "```python\n",
    "conn = psycopg2.connect(host = \"localhost\",\n",
    "                        database = \"nombre_BBDD\", #En nuestro caso Chinook\n",
    "                        user = \"nombre_usuario\",\n",
    "                        password = \"contraseña_usuario\")\n",
    "\n",
    "```"
   ]
  },
  {
   "cell_type": "code",
   "execution_count": 31,
   "id": "1f0bb85a",
   "metadata": {},
   "outputs": [],
   "source": [
    "conn = psycopg2.connect(host = \"localhost\",\n",
    "                        database = \"Chinook\", #En nuestro caso Chinook\n",
    "                        user = \"postgres\", #Usuario por defecto\n",
    "                        password = \"tornado88\")\n"
   ]
  },
  {
   "cell_type": "markdown",
   "id": "f7e62a2b",
   "metadata": {},
   "source": [
    "* Compruebo conexion"
   ]
  },
  {
   "cell_type": "code",
   "execution_count": 32,
   "id": "77e21cea",
   "metadata": {},
   "outputs": [],
   "source": [
    "cursor = conn.cursor()"
   ]
  },
  {
   "cell_type": "markdown",
   "id": "3cdf1f3a",
   "metadata": {},
   "source": [
    "* Consulta de prueba, si da error se rompe la conexión y hay que volver a conectar."
   ]
  },
  {
   "cell_type": "code",
   "execution_count": 33,
   "id": "d09cf3c7",
   "metadata": {},
   "outputs": [
    {
     "data": {
      "text/plain": [
       "('PostgreSQL 16.1, compiled by Visual C++ build 1937, 64-bit',)"
      ]
     },
     "execution_count": 33,
     "metadata": {},
     "output_type": "execute_result"
    }
   ],
   "source": [
    "cursor.execute('Select version();')\n",
    "cursor.fetchone()"
   ]
  },
  {
   "cell_type": "markdown",
   "id": "20b9d79a",
   "metadata": {},
   "source": [
    "```python\n",
    "\n",
    "sql_query = '''Consulta de SQL''' #Creo consulta\n",
    "cursor.execute(sql_query) #Ejecutamos la consulta o query\n",
    "rows = cursor.fetchall() #Creamos una variable con el result de la query en forma de lista de tuplas\n",
    "\n",
    "```"
   ]
  },
  {
   "cell_type": "code",
   "execution_count": 43,
   "id": "2309c3c5",
   "metadata": {},
   "outputs": [],
   "source": [
    "conn.rollback()  # Resetea conexion cuando hay error"
   ]
  },
  {
   "cell_type": "code",
   "execution_count": 46,
   "id": "1222cb9b",
   "metadata": {},
   "outputs": [
    {
     "name": "stdout",
     "output_type": "stream",
     "text": [
      "(1, 'AC/DC')\n",
      "(2, 'Accept')\n",
      "(3, 'Aerosmith')\n",
      "(4, 'Alanis Morissette')\n",
      "(5, 'Alice In Chains')\n"
     ]
    }
   ],
   "source": [
    "sql_query = ''' SELECT * \n",
    "                FROM \"Artist\"\n",
    "                LIMIT 5'''\n",
    "cursor.execute(sql_query)\n",
    "rows = cursor.fetchall()\n",
    "for row in rows:\n",
    "    print(row)"
   ]
  },
  {
   "cell_type": "markdown",
   "id": "089b6a24",
   "metadata": {},
   "source": [
    "\n",
    "```python\n",
    "rows = cursor.fechall()\n",
    "tabla = pd.DataFrame(rows) #generamos DF apartir del anterior\n",
    "colnames = [desc[0] for desc in cursor.description] #recuperamos nombres, cursor.descr devuleve tupla con misma longitud que columnas tenemos en nuestro result de la query. Además el 1º termino de la tupla es el nombre de columna por ello iteramos por tuplas y tomamos el término posicion 0 para crear nuestra lista de nombres de las columnas\n",
    "tabla = tabla.set_axis(colnames, axis = 1) #renombramos columas del DF creado para que coincida con las de la BBDD\n",
    "display(tabla)\n",
    "```"
   ]
  },
  {
   "cell_type": "code",
   "execution_count": 51,
   "id": "375f56c7",
   "metadata": {},
   "outputs": [
    {
     "data": {
      "text/html": [
       "<div>\n",
       "<style scoped>\n",
       "    .dataframe tbody tr th:only-of-type {\n",
       "        vertical-align: middle;\n",
       "    }\n",
       "\n",
       "    .dataframe tbody tr th {\n",
       "        vertical-align: top;\n",
       "    }\n",
       "\n",
       "    .dataframe thead th {\n",
       "        text-align: right;\n",
       "    }\n",
       "</style>\n",
       "<table border=\"1\" class=\"dataframe\">\n",
       "  <thead>\n",
       "    <tr style=\"text-align: right;\">\n",
       "      <th></th>\n",
       "      <th>ArtistId</th>\n",
       "      <th>Name</th>\n",
       "    </tr>\n",
       "  </thead>\n",
       "  <tbody>\n",
       "    <tr>\n",
       "      <th>0</th>\n",
       "      <td>1</td>\n",
       "      <td>AC/DC</td>\n",
       "    </tr>\n",
       "    <tr>\n",
       "      <th>1</th>\n",
       "      <td>2</td>\n",
       "      <td>Accept</td>\n",
       "    </tr>\n",
       "    <tr>\n",
       "      <th>2</th>\n",
       "      <td>3</td>\n",
       "      <td>Aerosmith</td>\n",
       "    </tr>\n",
       "    <tr>\n",
       "      <th>3</th>\n",
       "      <td>4</td>\n",
       "      <td>Alanis Morissette</td>\n",
       "    </tr>\n",
       "    <tr>\n",
       "      <th>4</th>\n",
       "      <td>5</td>\n",
       "      <td>Alice In Chains</td>\n",
       "    </tr>\n",
       "  </tbody>\n",
       "</table>\n",
       "</div>"
      ],
      "text/plain": [
       "   ArtistId               Name\n",
       "0         1              AC/DC\n",
       "1         2             Accept\n",
       "2         3          Aerosmith\n",
       "3         4  Alanis Morissette\n",
       "4         5    Alice In Chains"
      ]
     },
     "execution_count": 51,
     "metadata": {},
     "output_type": "execute_result"
    }
   ],
   "source": [
    "tabla = pd.DataFrame(rows)\n",
    "colnames = [desc[0] for desc in cursor.description]\n",
    "tabla = tabla.set_axis(colnames, axis = 1)\n",
    "tabla\n"
   ]
  },
  {
   "cell_type": "code",
   "execution_count": null,
   "id": "74b2f0c6",
   "metadata": {},
   "outputs": [],
   "source": [
    "#Buenas prácticas cierro coneccion\n",
    "cursor.close()\n",
    "conn.close()"
   ]
  },
  {
   "cell_type": "markdown",
   "id": "d60dfcf8",
   "metadata": {},
   "source": [
    "* Continua optimizado en el fichero 06_Py_Da_Py_SQL_C.ipynb que esta conectado a al la carpeta src y fichero sql.py que abre y cierra directemente conexion con BD."
   ]
  }
 ],
 "metadata": {
  "kernelspec": {
   "display_name": "Python 3",
   "language": "python",
   "name": "python3"
  },
  "language_info": {
   "codemirror_mode": {
    "name": "ipython",
    "version": 3
   },
   "file_extension": ".py",
   "mimetype": "text/x-python",
   "name": "python",
   "nbconvert_exporter": "python",
   "pygments_lexer": "ipython3",
   "version": "3.12.1"
  }
 },
 "nbformat": 4,
 "nbformat_minor": 5
}
